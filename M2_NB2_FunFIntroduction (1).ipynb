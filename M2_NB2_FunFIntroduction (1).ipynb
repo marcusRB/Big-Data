{
 "cells": [
  {
   "cell_type": "markdown",
   "metadata": {},
   "source": [
    "<div align=\"right\">Python 2.7 Jupyter Notebook</div>"
   ]
  },
  {
   "cell_type": "markdown",
   "metadata": {},
   "source": [
    "# Introduction to Funf"
   ]
  },
  {
   "cell_type": "markdown",
   "metadata": {},
   "source": [
    "### Your completion of the notebook exercises will be graded based on your ability to do the following: \n",
    "\n",
    "> **Apply**: Are you able to execute code (using the supplied examples) that performs the required functionality on supplied or generated data sets? \n",
    "\n",
    "> **Evaluate**: Are you able to interpret the results and justify your interpretation based on the observed data?"
   ]
  },
  {
   "cell_type": "markdown",
   "metadata": {},
   "source": [
    "#### Notebook objectives\n",
    "By the end of this notebook, you will be expected to:\n",
    "> \n",
    "  - Understand basic analysis of call and SMS log data; and\n",
    "  - Perform mobility tracing using call record data.\n",
    "    \n",
    "####  List of exercises\n",
    ">   - **Exercise 1**: Visualizing mobility trace patterns.\n",
    "  - **Exercise 2**: Analysis and interpretation of behavior from mobility trace patterns (short range).\n",
    "  - **Exercise 3**: Analysis and interpretation of behavior from mobility trace patterns (long range)."
   ]
  },
  {
   "cell_type": "markdown",
   "metadata": {},
   "source": [
    "# Notebook introduction\n",
    "\n",
    "Data from the following two publicly-available data sets will be used:\n",
    "1. [Friends and Family](http://realitycommons.media.mit.edu/friendsdataset.html) by MIT Media Lab; and \n",
    "2. [Student-Life](http://studentlife.cs.dartmouth.edu/dataset.html) by Dartmouth College. \n",
    "\n",
    "The \"Friends and Family\" data set was generated using Funf. The \"Student-Life\" data set contains similar data and, while not created using it, Funf is quoted as one of its main sources of inspiration. You can read more about the data sets in the provided links.\n",
    "\n",
    "> **Note**:\n",
    ">[Funf](https://github.com/OpenSensing/funf-core-android) was introduced to you in the video content of this module. You are welcome to review the code on GitHub, and download and create your own application. Should you wish to do so, it is a good idea to start with this [Wi-Fi Scanner Tutorial](https://github.com/funf-org/funf-core-android/wiki/WifiScannerTutorial).\n",
    "\n",
    "In the exercises that follow, you will familiarize yourself with some of the key features of the two data sets. The first exercise will focus on social features: call logs and SMS. In the second exercise, you will visualize the mobility trace for a user over a week. In the third exercise, you will extend the time period to a longer term.\n",
    "\n",
    "There are numerous other features that can be explored in the data sets. Many of them are labeled as “technical”, as a certain degree of data wrangling is required before they can be used to analyze networks of social interactions.\n",
    "\n",
    "\n",
    "The features demonstrated and contained in the datasets do not form a comprehensive list of all the possible sensor datasets. Additional options include accelerometer data used by fitness trackers, “screen on\" status, and many others. When analyzing populations you will most likely start with the basics. You will then expand on these basics by merging additional features from other data sets (where available) that are potentially useful in addressing the particular problem that you are interested in."
   ]
  },
  {
   "cell_type": "markdown",
   "metadata": {},
   "source": [
    "<div class=\"alert alert-warning\">\n",
    "<b>Note</b>:<br>\n",
    "It is strongly recommended that you save and checkpoint after applying significant changes or completing exercises. This allows you to return the notebook to a previous state should you wish to do so. On the Jupyter menu, select \"File\", then \"Save and Checkpoint\" from the dropdown menu that appears.\n",
    "</div>"
   ]
  },
  {
   "cell_type": "markdown",
   "metadata": {},
   "source": [
    "#### Load libraries and set options\n",
    "As usual, your Python toolbox consists of Pandas and NumPy. Folium is also added, as maps will be added to this notebook at a later stage."
   ]
  },
  {
   "cell_type": "code",
   "execution_count": 1,
   "metadata": {
    "collapsed": false
   },
   "outputs": [],
   "source": [
    "import pandas as pd\n",
    "import numpy as np\n",
    "import folium\n",
    "import matplotlib.pylab as plt\n",
    "import matplotlib\n",
    "%matplotlib inline\n",
    "matplotlib.rcParams['figure.figsize'] = (10, 8)"
   ]
  },
  {
   "cell_type": "markdown",
   "metadata": {},
   "source": [
    "## 1. Friends and Family: Call logs and SMS\n",
    "You will run sample scripts to examine the datasets and visualize the timelines of various sensor readings. "
   ]
  },
  {
   "cell_type": "markdown",
   "metadata": {},
   "source": [
    "### 1.1 Analyze the call log of a single user\n",
    "The \"Friends and Family\" dataset contains all users' calls in one file. One participant, \"fa10-01-08\", has been chosen as an example."
   ]
  },
  {
   "cell_type": "markdown",
   "metadata": {},
   "source": [
    "### 1.1.1 Analyze call log data\n",
    "\n",
    "#### Data preparation\n",
    "\n",
    "To start your analysis, you will:\n",
    "- Load the dataset;\n",
    "- Parse the datetime, and sort the dataset by this column;\n",
    "- Filter the dataset to review a single user; and\n",
    "- Examine the top rows in your new dataset."
   ]
  },
  {
   "cell_type": "code",
   "execution_count": 2,
   "metadata": {
    "collapsed": false
   },
   "outputs": [
    {
     "data": {
      "text/html": [
       "<div>\n",
       "<table border=\"1\" class=\"dataframe\">\n",
       "  <thead>\n",
       "    <tr style=\"text-align: right;\">\n",
       "      <th></th>\n",
       "      <th>participantID.A</th>\n",
       "      <th>participantID.B</th>\n",
       "      <th>type</th>\n",
       "      <th>duration</th>\n",
       "      <th>number.hash</th>\n",
       "      <th>week</th>\n",
       "    </tr>\n",
       "    <tr>\n",
       "      <th>local_time</th>\n",
       "      <th></th>\n",
       "      <th></th>\n",
       "      <th></th>\n",
       "      <th></th>\n",
       "      <th></th>\n",
       "      <th></th>\n",
       "    </tr>\n",
       "  </thead>\n",
       "  <tbody>\n",
       "    <tr>\n",
       "      <th>2010-07-31 21:31:25</th>\n",
       "      <td>fa10-01-08</td>\n",
       "      <td>fa10-01-08</td>\n",
       "      <td>incoming+</td>\n",
       "      <td>NaN</td>\n",
       "      <td>84ae45baecadf7414ef18390f93c63c700b42e9</td>\n",
       "      <td>30</td>\n",
       "    </tr>\n",
       "    <tr>\n",
       "      <th>2010-08-06 09:22:55</th>\n",
       "      <td>fa10-01-08</td>\n",
       "      <td>fa10-01-08</td>\n",
       "      <td>incoming+</td>\n",
       "      <td>NaN</td>\n",
       "      <td>84ae45baecadf7414ef18390f93c63c700b42e9</td>\n",
       "      <td>31</td>\n",
       "    </tr>\n",
       "    <tr>\n",
       "      <th>2010-08-06 13:11:36</th>\n",
       "      <td>fa10-01-08</td>\n",
       "      <td>fa10-01-08</td>\n",
       "      <td>incoming+</td>\n",
       "      <td>NaN</td>\n",
       "      <td>84ae45baecadf7414ef18390f93c63c700b42e9</td>\n",
       "      <td>31</td>\n",
       "    </tr>\n",
       "  </tbody>\n",
       "</table>\n",
       "</div>"
      ],
      "text/plain": [
       "                    participantID.A participantID.B       type  duration  \\\n",
       "local_time                                                                 \n",
       "2010-07-31 21:31:25      fa10-01-08      fa10-01-08  incoming+       NaN   \n",
       "2010-08-06 09:22:55      fa10-01-08      fa10-01-08  incoming+       NaN   \n",
       "2010-08-06 13:11:36      fa10-01-08      fa10-01-08  incoming+       NaN   \n",
       "\n",
       "                                                 number.hash  week  \n",
       "local_time                                                          \n",
       "2010-07-31 21:31:25  84ae45baecadf7414ef18390f93c63c700b42e9    30  \n",
       "2010-08-06 09:22:55  84ae45baecadf7414ef18390f93c63c700b42e9    31  \n",
       "2010-08-06 13:11:36  84ae45baecadf7414ef18390f93c63c700b42e9    31  "
      ]
     },
     "execution_count": 2,
     "metadata": {},
     "output_type": "execute_result"
    }
   ],
   "source": [
    "# Load the dataset.\n",
    "calls = pd.read_csv('../data/CallLog.csv')\n",
    "\n",
    "# Parse datetimes using the Pandas function.\n",
    "calls['local_time'] = pd.to_datetime(calls['local_time'])\n",
    "\n",
    "# Index the dataset by the datetime column.\n",
    "calls.set_index('local_time', inplace=True)\n",
    "\n",
    "# Sort the dataset in place.\n",
    "calls.sort_index(inplace=True)\n",
    "\n",
    "# Set the user to be evaluated.\n",
    "example_user = 'fa10-01-08'\n",
    "\n",
    "# Create a subset of the data where participantID.A \n",
    "#     is the selected user using the copy method.\n",
    "call_example = calls[calls['participantID.A'] == example_user].copy()\n",
    "\n",
    "# Add a column where the week is derived from the datetime column.\n",
    "call_example['week'] = call_example.index.map(lambda observation_timestamp: \n",
    "                                              observation_timestamp.week)\n",
    "\n",
    "# Display the head of the new dataset.\n",
    "call_example.head(3)"
   ]
  },
  {
   "cell_type": "markdown",
   "metadata": {},
   "source": [
    "Review the unique types of records present in the dataset."
   ]
  },
  {
   "cell_type": "code",
   "execution_count": 3,
   "metadata": {
    "collapsed": false
   },
   "outputs": [
    {
     "data": {
      "text/plain": [
       "array(['incoming+', 'outgoing+', 'outgoing', 'incoming', 'missed'], dtype=object)"
      ]
     },
     "execution_count": 3,
     "metadata": {},
     "output_type": "execute_result"
    }
   ],
   "source": [
    "# Display the unique records for \"type\"\n",
    "call_example.type.unique()"
   ]
  },
  {
   "cell_type": "markdown",
   "metadata": {},
   "source": [
    "Next, create the weekly bins for the records of the types that you are interested in, and display the weekly summary. Missed calls have been excluded for the purpose of this exercise."
   ]
  },
  {
   "cell_type": "code",
   "execution_count": 4,
   "metadata": {
    "collapsed": false
   },
   "outputs": [
    {
     "data": {
      "text/html": [
       "<div>\n",
       "<table border=\"1\" class=\"dataframe\">\n",
       "  <thead>\n",
       "    <tr style=\"text-align: right;\">\n",
       "      <th></th>\n",
       "      <th>outgoing</th>\n",
       "      <th>incoming</th>\n",
       "      <th>total</th>\n",
       "    </tr>\n",
       "    <tr>\n",
       "      <th>week</th>\n",
       "      <th></th>\n",
       "      <th></th>\n",
       "      <th></th>\n",
       "    </tr>\n",
       "  </thead>\n",
       "  <tbody>\n",
       "    <tr>\n",
       "      <th>30</th>\n",
       "      <td>0.0</td>\n",
       "      <td>1.0</td>\n",
       "      <td>1.0</td>\n",
       "    </tr>\n",
       "    <tr>\n",
       "      <th>31</th>\n",
       "      <td>1.0</td>\n",
       "      <td>12.0</td>\n",
       "      <td>13.0</td>\n",
       "    </tr>\n",
       "    <tr>\n",
       "      <th>32</th>\n",
       "      <td>2.0</td>\n",
       "      <td>1.0</td>\n",
       "      <td>3.0</td>\n",
       "    </tr>\n",
       "  </tbody>\n",
       "</table>\n",
       "</div>"
      ],
      "text/plain": [
       "      outgoing  incoming  total\n",
       "week                           \n",
       "30         0.0       1.0    1.0\n",
       "31         1.0      12.0   13.0\n",
       "32         2.0       1.0    3.0"
      ]
     },
     "execution_count": 4,
     "metadata": {},
     "output_type": "execute_result"
    }
   ],
   "source": [
    "# Create a new variable, call_groups, containing call_example grouped by week.\n",
    "call_groups = call_example.groupby(['week'], sort=False)\n",
    "\n",
    "# Create a pandas dataframe.\n",
    "call_weeks = pd.DataFrame(columns=['week', 'outgoing', 'incoming', 'total'])  \n",
    "\n",
    "# Set the index for the new dataframe.\n",
    "call_weeks.set_index('week', inplace=True)\n",
    "\n",
    "# Next we create a summary table based on the observed types.\n",
    "for week, group in call_groups:\n",
    "    inc = 0\n",
    "    out = 0\n",
    "    \n",
    "    try:\n",
    "        inc += pd.value_counts(group.type)['incoming+']\n",
    "    except KeyError:\n",
    "        pass\n",
    "    \n",
    "    try:\n",
    "        inc += pd.value_counts(group.type)['incoming']\n",
    "    except KeyError:\n",
    "        pass\n",
    "    \n",
    "    try:    \n",
    "        out += pd.value_counts(group.type)['outgoing+']\n",
    "    except KeyError:\n",
    "        pass\n",
    "    \n",
    "    try:    \n",
    "        out += pd.value_counts(group.type)['outgoing']\n",
    "    except KeyError:\n",
    "        pass\n",
    "    \n",
    "    call_weeks.loc[week] = [out, inc, out+inc]\n",
    "\n",
    "# Display the head of our new dataset.\n",
    "call_weeks.head(3)"
   ]
  },
  {
   "cell_type": "markdown",
   "metadata": {},
   "source": [
    "The calls per week can now be visualized using a barplot."
   ]
  },
  {
   "cell_type": "code",
   "execution_count": 5,
   "metadata": {
    "collapsed": false
   },
   "outputs": [
    {
     "data": {
      "text/plain": [
       "<matplotlib.legend.Legend at 0x7f555eb13d90>"
      ]
     },
     "execution_count": 5,
     "metadata": {},
     "output_type": "execute_result"
    },
    {
     "data": {
      "image/png": "[encoded data removed]",
      "text/plain": [
       "<matplotlib.figure.Figure at 0x7f558951d6d0>"
      ]
     },
     "metadata": {},
     "output_type": "display_data"
    }
   ],
   "source": [
    "# Set plotting options\n",
    "fig, ax = plt.subplots()\n",
    "plt.tight_layout()\n",
    "\n",
    "# Add outgoing calls to our plot\n",
    "plt.bar(call_weeks.reset_index()['week'], call_weeks['outgoing'], \n",
    "        color='b', label='outgoing')\n",
    "\n",
    "# Add incoming calls to our plot\n",
    "plt.bar(call_weeks.reset_index()['week'], call_weeks['incoming'], \n",
    "        color='r', bottom=call_weeks['outgoing'], label='incoming')\n",
    "\n",
    "# Plot formatting options\n",
    "ax.set_xlabel(\"Week Number\", fontsize=14)\n",
    "ax.set_ylabel(\"Number of Calls\", fontsize=14)\n",
    "ax.set_title(\"User's calls per week\", fontsize=16)\n",
    "plt.legend()"
   ]
  },
  {
   "cell_type": "markdown",
   "metadata": {},
   "source": [
    "### 1.1.2 Analyze SMS data\n",
    "\n",
    "The exercise in the previous section will now be repeated with the SMS records for the same user."
   ]
  },
  {
   "cell_type": "code",
   "execution_count": 6,
   "metadata": {
    "collapsed": false
   },
   "outputs": [
    {
     "data": {
      "text/html": [
       "<div>\n",
       "<table border=\"1\" class=\"dataframe\">\n",
       "  <thead>\n",
       "    <tr style=\"text-align: right;\">\n",
       "      <th></th>\n",
       "      <th>participantID.A</th>\n",
       "      <th>participantID.B</th>\n",
       "      <th>type</th>\n",
       "      <th>number.hash</th>\n",
       "      <th>week</th>\n",
       "    </tr>\n",
       "    <tr>\n",
       "      <th>local_time</th>\n",
       "      <th></th>\n",
       "      <th></th>\n",
       "      <th></th>\n",
       "      <th></th>\n",
       "      <th></th>\n",
       "    </tr>\n",
       "  </thead>\n",
       "  <tbody>\n",
       "    <tr>\n",
       "      <th>2010-08-20 17:34:22</th>\n",
       "      <td>fa10-01-08</td>\n",
       "      <td>fa10-01-08</td>\n",
       "      <td>outgoing</td>\n",
       "      <td>84ae45baecadf7414ef18390f93c63c700b42e9</td>\n",
       "      <td>33</td>\n",
       "    </tr>\n",
       "    <tr>\n",
       "      <th>2010-09-08 11:12:05</th>\n",
       "      <td>fa10-01-08</td>\n",
       "      <td>NaN</td>\n",
       "      <td>incoming</td>\n",
       "      <td>bd7c809d7d47026e7390ba3c6b253d24efcbe8cf</td>\n",
       "      <td>36</td>\n",
       "    </tr>\n",
       "    <tr>\n",
       "      <th>2010-09-09 14:52:11</th>\n",
       "      <td>fa10-01-08</td>\n",
       "      <td>fa10-01-07</td>\n",
       "      <td>outgoing</td>\n",
       "      <td>35b04b6bc9e27f9637fb62451dd4ea625667bf05</td>\n",
       "      <td>36</td>\n",
       "    </tr>\n",
       "  </tbody>\n",
       "</table>\n",
       "</div>"
      ],
      "text/plain": [
       "                    participantID.A participantID.B      type  \\\n",
       "local_time                                                      \n",
       "2010-08-20 17:34:22      fa10-01-08      fa10-01-08  outgoing   \n",
       "2010-09-08 11:12:05      fa10-01-08             NaN  incoming   \n",
       "2010-09-09 14:52:11      fa10-01-08      fa10-01-07  outgoing   \n",
       "\n",
       "                                                  number.hash  week  \n",
       "local_time                                                           \n",
       "2010-08-20 17:34:22   84ae45baecadf7414ef18390f93c63c700b42e9    33  \n",
       "2010-09-08 11:12:05  bd7c809d7d47026e7390ba3c6b253d24efcbe8cf    36  \n",
       "2010-09-09 14:52:11  35b04b6bc9e27f9637fb62451dd4ea625667bf05    36  "
      ]
     },
     "execution_count": 6,
     "metadata": {},
     "output_type": "execute_result"
    }
   ],
   "source": [
    "# Load the dataset.\n",
    "sms = pd.read_csv('../data/SMSLog.csv')\n",
    "\n",
    "# Parse datetimes using the Pandas function.\n",
    "sms['local_time'] = pd.to_datetime(sms['local_time'] )\n",
    "\n",
    "# Index the dataset by the datetime column.\n",
    "sms.set_index('local_time', inplace=True)\n",
    "\n",
    "# Sort the dataset in place.\n",
    "sms.sort_index(inplace=True)\n",
    "\n",
    "# We have set the user to be evaluated in the call logs section and will \n",
    "#     reference the variable here. Create a subset of the data where \n",
    "#     participantID.A is the selected user using the copy method.\n",
    "sms_example = sms[sms['participantID.A'] == example_user].copy()\n",
    "\n",
    "# Add a column where the week is derived from the datetime column.\n",
    "sms_example['week'] = sms_example.index.map(lambda observation_timestamp: \n",
    "                                            observation_timestamp.week)\n",
    "\n",
    "# Display the head of the new dataset.\n",
    "sms_example.head(3)"
   ]
  },
  {
   "cell_type": "markdown",
   "metadata": {},
   "source": [
    "Review the unique types of records present in the dataset."
   ]
  },
  {
   "cell_type": "code",
   "execution_count": 7,
   "metadata": {
    "collapsed": false
   },
   "outputs": [
    {
     "data": {
      "text/plain": [
       "array(['outgoing', 'incoming'], dtype=object)"
      ]
     },
     "execution_count": 7,
     "metadata": {},
     "output_type": "execute_result"
    }
   ],
   "source": [
    "sms_example.type.unique()"
   ]
  },
  {
   "cell_type": "markdown",
   "metadata": {},
   "source": [
    "Next, create the weekly bins for the records of the types that you are interested in again (as was done in the previous section), and display the weekly summary."
   ]
  },
  {
   "cell_type": "code",
   "execution_count": 8,
   "metadata": {
    "collapsed": false
   },
   "outputs": [
    {
     "data": {
      "text/html": [
       "<div>\n",
       "<table border=\"1\" class=\"dataframe\">\n",
       "  <thead>\n",
       "    <tr style=\"text-align: right;\">\n",
       "      <th></th>\n",
       "      <th>outgoing</th>\n",
       "      <th>incoming</th>\n",
       "      <th>total</th>\n",
       "    </tr>\n",
       "    <tr>\n",
       "      <th>week</th>\n",
       "      <th></th>\n",
       "      <th></th>\n",
       "      <th></th>\n",
       "    </tr>\n",
       "  </thead>\n",
       "  <tbody>\n",
       "    <tr>\n",
       "      <th>33</th>\n",
       "      <td>1.0</td>\n",
       "      <td>0.0</td>\n",
       "      <td>1.0</td>\n",
       "    </tr>\n",
       "    <tr>\n",
       "      <th>36</th>\n",
       "      <td>9.0</td>\n",
       "      <td>5.0</td>\n",
       "      <td>14.0</td>\n",
       "    </tr>\n",
       "    <tr>\n",
       "      <th>37</th>\n",
       "      <td>8.0</td>\n",
       "      <td>5.0</td>\n",
       "      <td>13.0</td>\n",
       "    </tr>\n",
       "  </tbody>\n",
       "</table>\n",
       "</div>"
      ],
      "text/plain": [
       "      outgoing  incoming  total\n",
       "week                           \n",
       "33         1.0       0.0    1.0\n",
       "36         9.0       5.0   14.0\n",
       "37         8.0       5.0   13.0"
      ]
     },
     "execution_count": 8,
     "metadata": {},
     "output_type": "execute_result"
    }
   ],
   "source": [
    "# Create a new variable, sms_groups, containing call_example grouped by week.\n",
    "sms_groups = sms_example.groupby(['week'], sort=False)\n",
    "\n",
    "# Create a pandas dataframe.\n",
    "sms_weeks = pd.DataFrame(columns=['week', 'outgoing', 'incoming', 'total'])  \n",
    "\n",
    "# Set the index for the new dataframe.\n",
    "sms_weeks.set_index('week', inplace=True)\n",
    "\n",
    "# Next we create a summary table based on the observed types.\n",
    "for week, group in sms_groups:\n",
    "    try:\n",
    "        inc = pd.value_counts(group.type)['incoming']\n",
    "    except KeyError:\n",
    "        inc = 0\n",
    "        \n",
    "    try:    \n",
    "        out = pd.value_counts(group.type)['outgoing']\n",
    "    except KeyError:\n",
    "        out = 0\n",
    "    sms_weeks.loc[week] = [out, inc, out+inc]\n",
    "\n",
    "# Display the head of our new dataset.\n",
    "sms_weeks.head(3)"
   ]
  },
  {
   "cell_type": "markdown",
   "metadata": {},
   "source": [
    "The SMSs per week can now be visualized using a barplot."
   ]
  },
  {
   "cell_type": "code",
   "execution_count": 9,
   "metadata": {
    "collapsed": false
   },
   "outputs": [
    {
     "data": {
      "text/plain": [
       "<matplotlib.legend.Legend at 0x7f555e85e090>"
      ]
     },
     "execution_count": 9,
     "metadata": {},
     "output_type": "execute_result"
    },
    {
     "data": {
      "image/png": "[encoded data removed]",
      "text/plain": [
       "<matplotlib.figure.Figure at 0x7f558951db50>"
      ]
     },
     "metadata": {},
     "output_type": "display_data"
    }
   ],
   "source": [
    "# Set plotting options\n",
    "fig, ax = plt.subplots()\n",
    "plt.tight_layout()\n",
    "\n",
    "# Add outgoing sms to our plot\n",
    "plt.bar(sms_weeks.reset_index()['week'], sms_weeks['outgoing'], \n",
    "        color='b', label='outgoing')\n",
    "\n",
    "# Add incoming sms to our plot\n",
    "plt.bar(sms_weeks.reset_index()['week'], sms_weeks['incoming'], \n",
    "        color='r', bottom=sms_weeks['outgoing'], label='incoming')\n",
    "\n",
    "# Plot formatting options\n",
    "ax.set_xlabel(\"Week Number\", fontsize=14)\n",
    "ax.set_ylabel(\"Number of SMS\", fontsize=14)\n",
    "ax.set_title(\"User's SMS per week\", fontsize=16)\n",
    "plt.legend()"
   ]
  },
  {
   "cell_type": "markdown",
   "metadata": {
    "collapsed": true
   },
   "source": [
    "> **Note**:\n",
    "\n",
    "> You can select other users, and re-execute the cells above for both call and SMS logs to test your intuition about the differences in behaviour of students, should you wish to do so. This activity will not be graded.\n"
   ]
  },
  {
   "cell_type": "markdown",
   "metadata": {},
   "source": [
    "# 2. Dartmouth: Location history example\n",
    "You will run sample scripts to examine the dataset and visualize the timeline of the location data. The Dartmouth dataset has been selected for this example because the locations in the \"Friends and Family\" dataset are encrypted and not suitable for use in this visual exercise.\n",
    "\n",
    "### 2.1 Analyze the location of a single user\n",
    "The \"Student-Life\" data set contains separate files for each of the users. User 31 has been selected for this example.\n",
    "\n",
    "Data preparation will need to be completed before your analysis can start. You need to: \n",
    "- Load the dataset;\n",
    "- Parse the datetime; and,\n",
    "- Sort it by this column. \n",
    "\n",
    "The dataset will then need to be filtered to review a single user. "
   ]
  },
  {
   "cell_type": "code",
   "execution_count": 10,
   "metadata": {
    "collapsed": false
   },
   "outputs": [
    {
     "data": {
      "text/html": [
       "<div>\n",
       "<table border=\"1\" class=\"dataframe\">\n",
       "  <thead>\n",
       "    <tr style=\"text-align: right;\">\n",
       "      <th></th>\n",
       "      <th>time</th>\n",
       "      <th>provider</th>\n",
       "      <th>network_type</th>\n",
       "      <th>accuracy</th>\n",
       "      <th>latitude</th>\n",
       "      <th>longitude</th>\n",
       "      <th>altitude</th>\n",
       "      <th>bearing</th>\n",
       "      <th>speed</th>\n",
       "      <th>travelstate</th>\n",
       "    </tr>\n",
       "  </thead>\n",
       "  <tbody>\n",
       "    <tr>\n",
       "      <th>0</th>\n",
       "      <td>1364407095</td>\n",
       "      <td>network</td>\n",
       "      <td>wifi</td>\n",
       "      <td>22.995</td>\n",
       "      <td>43.706616</td>\n",
       "      <td>-72.287025</td>\n",
       "      <td>0.0</td>\n",
       "      <td>0.0</td>\n",
       "      <td>0.0</td>\n",
       "      <td>NaN</td>\n",
       "    </tr>\n",
       "    <tr>\n",
       "      <th>1</th>\n",
       "      <td>1364408295</td>\n",
       "      <td>network</td>\n",
       "      <td>wifi</td>\n",
       "      <td>22.667</td>\n",
       "      <td>43.706599</td>\n",
       "      <td>-72.287036</td>\n",
       "      <td>0.0</td>\n",
       "      <td>0.0</td>\n",
       "      <td>0.0</td>\n",
       "      <td>NaN</td>\n",
       "    </tr>\n",
       "    <tr>\n",
       "      <th>2</th>\n",
       "      <td>1364411158</td>\n",
       "      <td>network</td>\n",
       "      <td>wifi</td>\n",
       "      <td>20.000</td>\n",
       "      <td>43.706584</td>\n",
       "      <td>-72.287006</td>\n",
       "      <td>0.0</td>\n",
       "      <td>0.0</td>\n",
       "      <td>0.0</td>\n",
       "      <td>NaN</td>\n",
       "    </tr>\n",
       "  </tbody>\n",
       "</table>\n",
       "</div>"
      ],
      "text/plain": [
       "         time provider network_type  accuracy   latitude  longitude  altitude  \\\n",
       "0  1364407095  network         wifi    22.995  43.706616 -72.287025       0.0   \n",
       "1  1364408295  network         wifi    22.667  43.706599 -72.287036       0.0   \n",
       "2  1364411158  network         wifi    20.000  43.706584 -72.287006       0.0   \n",
       "\n",
       "   bearing  speed travelstate  \n",
       "0      0.0    0.0         NaN  \n",
       "1      0.0    0.0         NaN  \n",
       "2      0.0    0.0         NaN  "
      ]
     },
     "execution_count": 10,
     "metadata": {},
     "output_type": "execute_result"
    }
   ],
   "source": [
    "# Import the dataset and display the head.\n",
    "loc = pd.read_csv('../data/dartmouth/location/gps_u31.csv')\n",
    "loc.head(3)"
   ]
  },
  {
   "cell_type": "markdown",
   "metadata": {},
   "source": [
    "In the output above, the GPS coordinates are visible, and the dataset is very similar in structure to the \"Friends and Family\" dataset. In order to be able to work with this data as a chronological location trace, it needs to be indexed with sorted timestamps (in human-readable ISO format). The next step is to review the summary statistics of the re-indexed DataFrame."
   ]
  },
  {
   "cell_type": "code",
   "execution_count": 11,
   "metadata": {
    "collapsed": false
   },
   "outputs": [
    {
     "data": {
      "text/html": [
       "<div>\n",
       "<table border=\"1\" class=\"dataframe\">\n",
       "  <thead>\n",
       "    <tr style=\"text-align: right;\">\n",
       "      <th></th>\n",
       "      <th>provider</th>\n",
       "      <th>network_type</th>\n",
       "      <th>accuracy</th>\n",
       "      <th>latitude</th>\n",
       "      <th>longitude</th>\n",
       "      <th>altitude</th>\n",
       "      <th>bearing</th>\n",
       "      <th>speed</th>\n",
       "      <th>travelstate</th>\n",
       "    </tr>\n",
       "    <tr>\n",
       "      <th>time</th>\n",
       "      <th></th>\n",
       "      <th></th>\n",
       "      <th></th>\n",
       "      <th></th>\n",
       "      <th></th>\n",
       "      <th></th>\n",
       "      <th></th>\n",
       "      <th></th>\n",
       "      <th></th>\n",
       "    </tr>\n",
       "  </thead>\n",
       "  <tbody>\n",
       "    <tr>\n",
       "      <th>2013-03-27 17:58:15</th>\n",
       "      <td>network</td>\n",
       "      <td>wifi</td>\n",
       "      <td>22.995</td>\n",
       "      <td>43.706616</td>\n",
       "      <td>-72.287025</td>\n",
       "      <td>0.0</td>\n",
       "      <td>0.0</td>\n",
       "      <td>0.0</td>\n",
       "      <td>NaN</td>\n",
       "    </tr>\n",
       "    <tr>\n",
       "      <th>2013-03-27 18:18:15</th>\n",
       "      <td>network</td>\n",
       "      <td>wifi</td>\n",
       "      <td>22.667</td>\n",
       "      <td>43.706599</td>\n",
       "      <td>-72.287036</td>\n",
       "      <td>0.0</td>\n",
       "      <td>0.0</td>\n",
       "      <td>0.0</td>\n",
       "      <td>NaN</td>\n",
       "    </tr>\n",
       "    <tr>\n",
       "      <th>2013-03-27 19:05:58</th>\n",
       "      <td>network</td>\n",
       "      <td>wifi</td>\n",
       "      <td>20.000</td>\n",
       "      <td>43.706584</td>\n",
       "      <td>-72.287006</td>\n",
       "      <td>0.0</td>\n",
       "      <td>0.0</td>\n",
       "      <td>0.0</td>\n",
       "      <td>NaN</td>\n",
       "    </tr>\n",
       "  </tbody>\n",
       "</table>\n",
       "</div>"
      ],
      "text/plain": [
       "                    provider network_type  accuracy   latitude  longitude  \\\n",
       "time                                                                        \n",
       "2013-03-27 17:58:15  network         wifi    22.995  43.706616 -72.287025   \n",
       "2013-03-27 18:18:15  network         wifi    22.667  43.706599 -72.287036   \n",
       "2013-03-27 19:05:58  network         wifi    20.000  43.706584 -72.287006   \n",
       "\n",
       "                     altitude  bearing  speed travelstate  \n",
       "time                                                       \n",
       "2013-03-27 17:58:15       0.0      0.0    0.0         NaN  \n",
       "2013-03-27 18:18:15       0.0      0.0    0.0         NaN  \n",
       "2013-03-27 19:05:58       0.0      0.0    0.0         NaN  "
      ]
     },
     "execution_count": 11,
     "metadata": {},
     "output_type": "execute_result"
    }
   ],
   "source": [
    "# Parse the dates.\n",
    "loc['time'] = pd.to_datetime(loc['time'], unit='s')\n",
    "\n",
    "# Set and reindex.\n",
    "loc.set_index('time', inplace=True)\n",
    "loc.sort_index(inplace=True)\n",
    "\n",
    "# Display the head.\n",
    "loc.head(3)"
   ]
  },
  {
   "cell_type": "code",
   "execution_count": 12,
   "metadata": {
    "collapsed": false
   },
   "outputs": [
    {
     "name": "stdout",
     "output_type": "stream",
     "text": [
      "Data covers 63 days 17:08:07 between 2013-03-27 17:58:15 and 2013-05-30 11:06:22\n",
      "It has 4203 datapoints sampled with median interval of 20 minutes.\n"
     ]
    }
   ],
   "source": [
    "# Retrieve the start and end dates for the dataset and print the output.\n",
    "start = pd.to_datetime(loc.index, unit='s').min()\n",
    "end   = pd.to_datetime(loc.index, unit='s').max()\n",
    "print (\"Data covers {} between {} and {}\".format(end - start, start, end))\n",
    "\n",
    "# Calculate the median interval between observations and print the output.\n",
    "median_interval = pd.Series(pd.to_datetime(loc.index, \n",
    "                                               unit='s')).diff().median().seconds / 60\n",
    "print (\"It has {} datapoints sampled with median interval of {} minutes.\"\n",
    "       .format(len(loc), median_interval))"
   ]
  },
  {
   "cell_type": "markdown",
   "metadata": {},
   "source": [
    "Next, the step to add a column with the week will be repeated, and the DataFrame will be grouped by this column."
   ]
  },
  {
   "cell_type": "code",
   "execution_count": 13,
   "metadata": {
    "collapsed": false
   },
   "outputs": [
    {
     "data": {
      "text/html": [
       "<div>\n",
       "<table border=\"1\" class=\"dataframe\">\n",
       "  <thead>\n",
       "    <tr style=\"text-align: right;\">\n",
       "      <th></th>\n",
       "      <th>provider</th>\n",
       "      <th>network_type</th>\n",
       "      <th>accuracy</th>\n",
       "      <th>latitude</th>\n",
       "      <th>longitude</th>\n",
       "      <th>altitude</th>\n",
       "      <th>bearing</th>\n",
       "      <th>speed</th>\n",
       "      <th>travelstate</th>\n",
       "      <th>week</th>\n",
       "    </tr>\n",
       "    <tr>\n",
       "      <th>time</th>\n",
       "      <th></th>\n",
       "      <th></th>\n",
       "      <th></th>\n",
       "      <th></th>\n",
       "      <th></th>\n",
       "      <th></th>\n",
       "      <th></th>\n",
       "      <th></th>\n",
       "      <th></th>\n",
       "      <th></th>\n",
       "    </tr>\n",
       "  </thead>\n",
       "  <tbody>\n",
       "    <tr>\n",
       "      <th>2013-03-27 17:58:15</th>\n",
       "      <td>network</td>\n",
       "      <td>wifi</td>\n",
       "      <td>22.995</td>\n",
       "      <td>43.706616</td>\n",
       "      <td>-72.287025</td>\n",
       "      <td>0.0</td>\n",
       "      <td>0.0</td>\n",
       "      <td>0.0</td>\n",
       "      <td>NaN</td>\n",
       "      <td>13</td>\n",
       "    </tr>\n",
       "    <tr>\n",
       "      <th>2013-03-27 18:18:15</th>\n",
       "      <td>network</td>\n",
       "      <td>wifi</td>\n",
       "      <td>22.667</td>\n",
       "      <td>43.706599</td>\n",
       "      <td>-72.287036</td>\n",
       "      <td>0.0</td>\n",
       "      <td>0.0</td>\n",
       "      <td>0.0</td>\n",
       "      <td>NaN</td>\n",
       "      <td>13</td>\n",
       "    </tr>\n",
       "    <tr>\n",
       "      <th>2013-03-27 19:05:58</th>\n",
       "      <td>network</td>\n",
       "      <td>wifi</td>\n",
       "      <td>20.000</td>\n",
       "      <td>43.706584</td>\n",
       "      <td>-72.287006</td>\n",
       "      <td>0.0</td>\n",
       "      <td>0.0</td>\n",
       "      <td>0.0</td>\n",
       "      <td>NaN</td>\n",
       "      <td>13</td>\n",
       "    </tr>\n",
       "  </tbody>\n",
       "</table>\n",
       "</div>"
      ],
      "text/plain": [
       "                    provider network_type  accuracy   latitude  longitude  \\\n",
       "time                                                                        \n",
       "2013-03-27 17:58:15  network         wifi    22.995  43.706616 -72.287025   \n",
       "2013-03-27 18:18:15  network         wifi    22.667  43.706599 -72.287036   \n",
       "2013-03-27 19:05:58  network         wifi    20.000  43.706584 -72.287006   \n",
       "\n",
       "                     altitude  bearing  speed travelstate  week  \n",
       "time                                                             \n",
       "2013-03-27 17:58:15       0.0      0.0    0.0         NaN    13  \n",
       "2013-03-27 18:18:15       0.0      0.0    0.0         NaN    13  \n",
       "2013-03-27 19:05:58       0.0      0.0    0.0         NaN    13  "
      ]
     },
     "execution_count": 13,
     "metadata": {},
     "output_type": "execute_result"
    }
   ],
   "source": [
    "# Add a column containing the week.\n",
    "loc['week'] = loc.index.map(lambda observation_timestamp: \n",
    "                            observation_timestamp.week)\n",
    "loc.head(3)"
   ]
  },
  {
   "cell_type": "markdown",
   "metadata": {},
   "source": [
    "Review the number of observations per week by grouping the data by the column added in the previous cell."
   ]
  },
  {
   "cell_type": "code",
   "execution_count": 14,
   "metadata": {
    "collapsed": false
   },
   "outputs": [
    {
     "data": {
      "text/html": [
       "<div>\n",
       "<table border=\"1\" class=\"dataframe\">\n",
       "  <thead>\n",
       "    <tr style=\"text-align: right;\">\n",
       "      <th></th>\n",
       "      <th># of observations</th>\n",
       "    </tr>\n",
       "    <tr>\n",
       "      <th>week</th>\n",
       "      <th></th>\n",
       "    </tr>\n",
       "  </thead>\n",
       "  <tbody>\n",
       "    <tr>\n",
       "      <th>13</th>\n",
       "      <td>300</td>\n",
       "    </tr>\n",
       "    <tr>\n",
       "      <th>14</th>\n",
       "      <td>503</td>\n",
       "    </tr>\n",
       "    <tr>\n",
       "      <th>15</th>\n",
       "      <td>500</td>\n",
       "    </tr>\n",
       "    <tr>\n",
       "      <th>16</th>\n",
       "      <td>504</td>\n",
       "    </tr>\n",
       "    <tr>\n",
       "      <th>17</th>\n",
       "      <td>504</td>\n",
       "    </tr>\n",
       "    <tr>\n",
       "      <th>18</th>\n",
       "      <td>500</td>\n",
       "    </tr>\n",
       "    <tr>\n",
       "      <th>19</th>\n",
       "      <td>492</td>\n",
       "    </tr>\n",
       "    <tr>\n",
       "      <th>20</th>\n",
       "      <td>474</td>\n",
       "    </tr>\n",
       "    <tr>\n",
       "      <th>21</th>\n",
       "      <td>420</td>\n",
       "    </tr>\n",
       "    <tr>\n",
       "      <th>22</th>\n",
       "      <td>6</td>\n",
       "    </tr>\n",
       "  </tbody>\n",
       "</table>\n",
       "</div>"
      ],
      "text/plain": [
       "      # of observations\n",
       "week                   \n",
       "13                  300\n",
       "14                  503\n",
       "15                  500\n",
       "16                  504\n",
       "17                  504\n",
       "18                  500\n",
       "19                  492\n",
       "20                  474\n",
       "21                  420\n",
       "22                    6"
      ]
     },
     "execution_count": 14,
     "metadata": {},
     "output_type": "execute_result"
    }
   ],
   "source": [
    "# Group by week and review the output.\n",
    "week_gr = loc.groupby('week', axis=0)\n",
    "pd.DataFrame(week_gr.size(), columns=['# of observations'])"
   ]
  },
  {
   "cell_type": "markdown",
   "metadata": {},
   "source": [
    "Next, the data will be plotted on a map. Some additional steps to prepare the data are required before this can be done. \n",
    "\n",
    "The coordinates from the location DataFrame need to be extracted into a simpler format; one without indexes, column names, and unnecessary columns. This example will work on the weekly groupings and use Pandas' DataFrame ``df.as_matrix()`` method, which returns a raw NumPy matrix."
   ]
  },
  {
   "cell_type": "code",
   "execution_count": 15,
   "metadata": {
    "collapsed": true
   },
   "outputs": [],
   "source": [
    "weekly_travels = {}\n",
    "\n",
    "for week, points in week_gr:\n",
    "    weekly_travels[week] = points[['latitude', 'longitude']].as_matrix() "
   ]
  },
  {
   "cell_type": "markdown",
   "metadata": {},
   "source": [
    "> **Note**: \n",
    "\n",
    "> The Python visualization library, Folium, was introduced in an earlier notebook. However, it is good to know that the center location and starting zoom level are options that you will need to manually set. In many cases, your analysis will be centered around a known coordinate, in which case, you can manually update the location. In other cases, you will need to calculate the position based on your available data.\n",
    "\n",
    "Now you can plot the data. The following example looks at a specific week."
   ]
  },
  {
   "cell_type": "code",
   "execution_count": 28,
   "metadata": {
    "collapsed": false,
    "scrolled": false
   },
   "outputs": [
    {
     "data": {
      "text/html": [
       "<div style=\"width:100%;\"><div style=\"position:relative;width:100%;height:0;padding-bottom:60%;\"><iframe src=\"data:text/html;base64,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\" style=\"position:absolute;width:100%;height:100%;left:0;top:0;\"></iframe></div></div>"
      ],
      "text/plain": [
       "<folium.folium.Map at 0x7f555e493a50>"
      ]
     },
     "execution_count": 28,
     "metadata": {},
     "output_type": "execute_result"
    }
   ],
   "source": [
    "# Set the center of the map and the zoom level. \n",
    "map_week15 = folium.Map(location=[43.706607,-72.287041], zoom_start=11)\n",
    "# Plot the locations of observations.\n",
    "folium.PolyLine(weekly_travels[15], color='blue', weight=7, \n",
    "                opacity=0.5).add_to(map_week15)\n",
    "map_week15"
   ]
  },
  {
   "cell_type": "markdown",
   "metadata": {},
   "source": [
    "<br>\n",
    "<div class=\"alert alert-info\">\n",
    "<b>Exercise 1 Start.</b>\n",
    "</div>\n",
    "\n",
    "### Instructions\n",
    "> Copy the code in the previous cell, and change Week 15 to Week 20 to produce the mobility trace for Week 20. You need to replace \"map_week15\" with \"map_week20\", and retrieve Element 20 from the variable \"weekly_travels\".\n",
    "\n",
    "**Optional:**\n",
    ">If you want to, you can attempt to recenter the map, and specify a different zoom level to produce a map that is better suited to the visualization. (The answer is demonstrated in the mobility trace for all of the user's data further down in this notebook.)"
   ]
  },
  {
   "cell_type": "code",
   "execution_count": 27,
   "metadata": {
    "collapsed": false
   },
   "outputs": [
    {
     "data": {
      "text/html": [
       "<div style=\"width:100%;\"><div style=\"position:relative;width:100%;height:0;padding-bottom:60%;\"><iframe src=\"data:text/html;base64,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\" style=\"position:absolute;width:100%;height:100%;left:0;top:0;\"></iframe></div></div>"
      ],
      "text/plain": [
       "<folium.folium.Map at 0x7f555e538410>"
      ]
     },
     "execution_count": 27,
     "metadata": {},
     "output_type": "execute_result"
    }
   ],
   "source": [
    "# Set the center of the map and the zoom level. \n",
    "map_week20 = folium.Map(location=[43,-71.85], zoom_start=8)\n",
    "# Plot the locations of observations.\n",
    "folium.PolyLine(weekly_travels[20], color='blue', weight=3, \n",
    "                opacity=0.5).add_to(map_week20)\n",
    "map_week20"
   ]
  },
  {
   "cell_type": "markdown",
   "metadata": {},
   "source": [
    "<br>\n",
    "<div class=\"alert alert-info\">\n",
    "<b>Exercise 1 End.</b>\n",
    "</div>"
   ]
  },
  {
   "cell_type": "markdown",
   "metadata": {},
   "source": [
    "> **Exercise complete**:\n",
    "    \n",
    "> This is a good time to \"Save and Checkpoint\"."
   ]
  },
  {
   "cell_type": "markdown",
   "metadata": {},
   "source": [
    "<br>\n",
    "<div class=\"alert alert-info\">\n",
    "<b>Exercise 2 Start.</b>\n",
    "</div>\n",
    "\n",
    "### Instructions\n",
    "> When comparing the visual representation of the two weeks, you will see that the patterns are very similar. Provide a high-level summary of the person's mobility in the cell below.\n",
    "\n",
    "> Here are some questions to guide your answer:\n",
    "- How many places do you think the person visited during Week 15?\n",
    "- Compared to other weeks, is this person's behavior predictable?\n",
    "- Is this representative of general behavior, or is the number of places visited lower or higher than you expected?"
   ]
  },
  {
   "cell_type": "markdown",
   "metadata": {},
   "source": [
    "It appears the user visited 4 locations during week 15. When compared to week 20, we see that the travel habits of our person are relativly stable. The user follows the same pattern of travel every week, suggesting work/family/etc."
   ]
  },
  {
   "cell_type": "markdown",
   "metadata": {},
   "source": [
    "<br>\n",
    "<div class=\"alert alert-info\">\n",
    "<b>Exercise 2 End.</b>\n",
    "</div>"
   ]
  },
  {
   "cell_type": "markdown",
   "metadata": {},
   "source": [
    "> **Exercise complete**:\n",
    "    \n",
    "> This is a good time to \"Save and Checkpoint\"."
   ]
  },
  {
   "cell_type": "markdown",
   "metadata": {},
   "source": [
    "<br>\n",
    "<div class=\"alert alert-info\">\n",
    "<b>Exercise 3 Start.</b>\n",
    "</div>\n",
    "\n",
    "### Instructions\n",
    "\n",
    "> What can you conclude from comparing the person's mobility from single weeks to the full data set? Provide a high-level summary in the cell below."
   ]
  },
  {
   "cell_type": "markdown",
   "metadata": {},
   "source": [
    "There are several things to be learned from this comparison. The first being a contrast of the habit vs exploration patterns, or \"foraging\" behavior mentioned last module. We can see which travel data points are regularly executed, and which are spontaneous or unexpected. Next, we can compare the *number* of data points in order to gain an activity comparison week by week vs average."
   ]
  },
  {
   "cell_type": "markdown",
   "metadata": {},
   "source": [
    "<br>\n",
    "<div class=\"alert alert-info\">\n",
    "<b>Exercise 3 End.</b>\n",
    "</div>"
   ]
  },
  {
   "cell_type": "markdown",
   "metadata": {},
   "source": [
    "> **Exercise complete**:\n",
    "    \n",
    "> This is a good time to \"Save and Checkpoint\"."
   ]
  },
  {
   "cell_type": "markdown",
   "metadata": {},
   "source": [
    "## 3. Submit your notebook\n",
    "\n",
    "Please make sure that you:\n",
    "- Perform a final \"Save and Checkpoint\";\n",
    "- Download a copy of the notebook in \".ipynb\" format to your local machine using \"File\", \"Download as\", and \"IPython Notebook (.ipynb)\"; and\n",
    "- Submit a copy of this file to the Online Campus."
   ]
  },
  {
   "cell_type": "markdown",
   "metadata": {},
   "source": [
    "## 4. References\n",
    "1. Aharony, Nadav, Wei Pan, Cory Ip, Inas Khayal, and Alex Pentland. 2011. “SocialfMRI: Investigating and shaping social mechanisms in the real world.” Pervasive and Mobile Computing 7: 643-659. \n",
    "2. Wang, Rui, Fanglin Chen, Zhenyu Chen, Tianxing Li, Gabriella Harari, Stefanie Tignor, Xia Zhou, Dror Ben-Zeev, and Andrew T. Campbell. 2014. “StudentLife: Assessing Mental Health, Academic Performance and Behavioral Trends of College Students using Smartphones.” Proceedings of the ACM Conference on Ubiquitous Computing. 2014."
   ]
  }
 ],
 "metadata": {
  "kernelspec": {
   "display_name": "Python 2",
   "language": "python",
   "name": "python2"
  },
  "language_info": {
   "codemirror_mode": {
    "name": "ipython",
    "version": 2
   },
   "file_extension": ".py",
   "mimetype": "text/x-python",
   "name": "python",
   "nbconvert_exporter": "python",
   "pygments_lexer": "ipython2",
   "version": "2.7.12"
  }
 },
 "nbformat": 4,
 "nbformat_minor": 0
}
