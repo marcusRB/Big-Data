{
 "cells": [
  {
   "cell_type": "markdown",
   "metadata": {},
   "source": [
    "<div align=\"right\">Python 2.7 Jupyter Notebook</div>\n",
    "\n",
    "# Social analytics blueprint\n",
    "<div class=\"alert alert-warning\">\n",
    "<b>This notebook contains advanced exercises that are only applicable to students who wish to deepen their understanding and qualify for bonus marks on this course.</b> You will be able to achieve 100% for this notebook by completing Exercise 1. An optional, additional exercise (Exercise 2) can be completed to qualify for bonus marks.\n",
    "</div>\n",
    "\n",
    "### Your completion of the notebook exercises will be graded based on your ability to do the following:\n",
    "\n",
    "> **Understand**: Do your comments show evidence that you recall and understand technical concepts?"
   ]
  },
  {
   "cell_type": "markdown",
   "metadata": {},
   "source": [
    "#### Notebook objectives:\n",
    "By the end of this notebook, you will be expected to understand how to create a blueprint for social physics experiments.\n",
    " \n",
    "####  List of exercises:\n",
    "> - **Exercise 1**: Create a blueprint for a big data and social analytics project.\n",
    "- **Exercise 2 [Advanced]**: Provide an overview of typical resource requirements, and Phase 0 activities for your selected project.  "
   ]
  },
  {
   "cell_type": "markdown",
   "metadata": {},
   "source": [
    "# Notebook introduction"
   ]
  },
  {
   "cell_type": "markdown",
   "metadata": {},
   "source": [
    "This notebook is intended to serve as a blueprint that you can use in your future endeavors. You are expected to provide a high-level blueprint of a potential study, because an in-depth blueprint is beyond the scope of this course. Exercise 1 will not be graded in detail, therefore one or two sentences for each of the numbered sections is sufficient.\n",
    "\n",
    "> **Note**: Providing more information regarding your interests, experience, and background will allow for better context during the assessment. However, this is optional and does not need to be provided.\n",
    "\n",
    "The outline below is provided in an attempt to structure your thoughts. Keep in mind that typical studies, whether in academic or commercial applications, typically do not follow a straight path. As a result of this, the output is usually produced after many iterations, deviations, and potential changes in course. Living labs are longitudinal and adaptive by nature. In science, researchers uncover insights that may be different from what they had originally anticipated, and, in business, individuals may uncover new and unexpected business and improvement opportunities. You need to ensure that you spend enough time in the exploration phase of real-life projects, while ensuring that you deliver actionable results in the required timeframes. A good approach is to start with a minimum viable product, and add features to this product as your project matures.\n"
   ]
  },
  {
   "cell_type": "markdown",
   "metadata": {},
   "source": [
    "<div class=\"alert alert-info\">\n",
    "<b>Exercise 1 Start.</b>\n",
    "</div>\n",
    "\n",
    "### Instructions\n",
    "\n",
    "> Based on the content provided in Module 6's Notebook 1 (an overview of big data projects) and Module 7's Notebook 1 (an overview of the “Friends and Family” study), create a social analytics blueprint for your own topic of interest. Provide a short introductory paragraph stating your choice of industry and topic, and a description of your plan or expectations for each of the items listed below (in one or two sentences).\n",
    "\n",
    "> **Note**: Refer to the image of the scientific method, in Module 7's Notebook 1, as a refresher of the typical workflow observed when creating a social analytics blueprint and carrying out a big data project."
   ]
  },
  {
   "cell_type": "markdown",
   "metadata": {},
   "source": [
    "Your markdown introductory paragraph here."
   ]
  },
  {
   "cell_type": "markdown",
   "metadata": {
    "collapsed": true
   },
   "source": [
    "#### 1. Make observations \n",
    "Typically, this follows the research and context phase of the project plan. List the observations that you would like to study in your project."
   ]
  },
  {
   "cell_type": "markdown",
   "metadata": {},
   "source": [
    "At work, part of my job as a web developer is teaching clients how to use/update parts of their website after I complete work on it. I would like to study the reaction to advice I give, and specifically what I may be missing. By analyzing search history post-meeting, I can gain an indication of information that clients look for, that I am not currently giving them."
   ]
  },
  {
   "cell_type": "markdown",
   "metadata": {
    "collapsed": true
   },
   "source": [
    "####  2. Think of interesting questions\n",
    "List a few of the potential questions that you would like to answer in your project."
   ]
  },
  {
   "cell_type": "markdown",
   "metadata": {},
   "source": [
    "1. What advice/info am I not giving, that people look for?\n",
    "2. Is clarification needed on any specific topic?\n",
    "3. Is there information given that is not needed?"
   ]
  },
  {
   "cell_type": "markdown",
   "metadata": {},
   "source": [
    "####  3. Formulate a hypothesis\n",
    "State one or two hypotheses that relate to the questions listed in the previous answer."
   ]
  },
  {
   "cell_type": "markdown",
   "metadata": {},
   "source": [
    "If I am providing adequate information regarding features and editing steps, clients will not need to search for additional information. By analyzing the search history of a client after their information meeting, I hope to identify problem areas and advice."
   ]
  },
  {
   "cell_type": "markdown",
   "metadata": {},
   "source": [
    "####  4. Develop testable predictions\n",
    "Briefly describe how you would develop testable predictions."
   ]
  },
  {
   "cell_type": "markdown",
   "metadata": {},
   "source": [
    "By developing a keyword bank, search historys can be compared to identify what topics are being revisited. Predictions can be made on what topics are being looked up, or what topics are having clarification requested. "
   ]
  },
  {
   "cell_type": "markdown",
   "metadata": {},
   "source": [
    "####  5. Gather data to test predictions, and execute the analysis phase\n",
    "You do not need to complete the execution aspect of this phase. Simply provide one or two observations on where you expect to source the required data, and execute the planned analysis."
   ]
  },
  {
   "cell_type": "markdown",
   "metadata": {},
   "source": [
    "The data would be sourced from client computers/cell phones. More specifically, their search history. Analysis would be performed by searching the search history data for question words used with key words, or specific phrases used in information meetings."
   ]
  },
  {
   "cell_type": "markdown",
   "metadata": {},
   "source": [
    " "
   ]
  },
  {
   "cell_type": "markdown",
   "metadata": {},
   "source": [
    "Once this phase is complete, you will likely have to:\n",
    "\n",
    "####  6. Refine, alter, expand, or reject your hypothesis\n",
    "Can you think of additional uses for (or other parties interested in) the data in your hypothetical use case? List them below."
   ]
  },
  {
   "cell_type": "markdown",
   "metadata": {},
   "source": [
    "The search data can also be used for client satisfaction info, or other internal process auditing."
   ]
  },
  {
   "cell_type": "markdown",
   "metadata": {},
   "source": [
    "After you have completed this phase, you will need to repeat phases four and five of the scientific method. Alternatively, if you do not find a need to refine, alter, expand, or reject your hypothesis, you can proceed to the final phase, which is to:\n",
    "\n",
    "####  7. Develop general theories\n",
    "Assuming that your analysis was successful, and that you were able to develop a general theory to better understand a specific topic, what changes would you propose in order to benefit from the insights gained?"
   ]
  },
  {
   "cell_type": "markdown",
   "metadata": {},
   "source": [
    "Changes to information provided to clients would be based on solid trends, instead of just feedback from a few cases. Changing the information meetings can cut down on client confusion and follow up calls, while increasing satisfaction in our company."
   ]
  },
  {
   "cell_type": "markdown",
   "metadata": {},
   "source": [
    "<br>\n",
    "<div class=\"alert alert-info\">\n",
    "<b>Exercise 1 End.</b>\n",
    "</div>\n",
    "\n",
    "> **Exercise complete**:\n",
    "    \n",
    "> This is a good time to \"Save and Checkpoint\"."
   ]
  },
  {
   "cell_type": "markdown",
   "metadata": {},
   "source": [
    "<div class=\"alert alert-info\">\n",
    "<b>Exercise 2 [Advanced] Start.</b>\n",
    "</div>\n",
    "\n",
    "### Instructions\n",
    "Many of the concepts that you are required to perform in order to execute a project (from beginning to end) do not form part of the core focus of this course.\n",
    "\n",
    "Based on your experience, and with reference to the project you outlined in Exercise 1, complete the following:\n",
    "1. Provide a brief overview of the people, processes, and technological aspects that you will need to address in order to exploit the value contained in the data set you identified.\n",
    "2. Refer to the project checklist in M6_NB1, which lists the typical activities that make up the phases in a project plan. Phase 1 is covered to a large extent by Exercise 1. Provide a short description of the Phase 0 activities that you would have to address to motivate for, and initiate, the project in your environment (academic or commercial). Include one or two sentences on how you would plan for the project to be terminated.\n"
   ]
  },
  {
   "cell_type": "markdown",
   "metadata": {},
   "source": [
    "1. Client's search data would be gathered, post information meeting, in order to obtain the information we seek. A thorough review on the information meeting process would need to be performed in order to construct a complete and well thought out keyword list.\n",
    "\n",
    "2. Phase 0 would involve informing clients of the proposed study, and preparing for the gathering of their data. Security would need to be ensured in order to get clients on board. In order to terminate, the data collection software would need to be removed. "
   ]
  },
  {
   "cell_type": "markdown",
   "metadata": {
    "collapsed": true
   },
   "source": [
    "<br>\n",
    "<div class=\"alert alert-info\">\n",
    "<b>Exercise 2 [Advanced] End.</b>\n",
    "</div>\n",
    "\n",
    "> **Exercise complete**:\n",
    "    \n",
    "> This is a good time to \"Save and Checkpoint\".\n",
    "\n",
    "# Submit your notebook\n",
    "\n",
    "Please make sure that you:\n",
    "- Perform a final \"Save and Checkpoint\";\n",
    "- Download a copy of the notebook in \".ipynb\" format to your local machine using \"File\", \"Download as\", and \"IPython Notebook (.ipynb)\"; and\n",
    "- Submit a copy of this file to the Online Campus.\n",
    "\n",
    "> **Note**:\n",
    "\n",
    "> A model answer will not be provided for this notebook."
   ]
  },
  {
   "cell_type": "code",
   "execution_count": null,
   "metadata": {
    "collapsed": true
   },
   "outputs": [],
   "source": []
  }
 ],
 "metadata": {
  "kernelspec": {
   "display_name": "Python 2",
   "language": "python",
   "name": "python2"
  },
  "language_info": {
   "codemirror_mode": {
    "name": "ipython",
    "version": 2
   },
   "file_extension": ".py",
   "mimetype": "text/x-python",
   "name": "python",
   "nbconvert_exporter": "python",
   "pygments_lexer": "ipython2",
   "version": "2.7.12"
  }
 },
 "nbformat": 4,
 "nbformat_minor": 0
}
