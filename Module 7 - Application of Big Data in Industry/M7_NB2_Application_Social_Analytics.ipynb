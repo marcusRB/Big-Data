{
 "cells": [
  {
   "cell_type": "markdown",
   "metadata": {},
   "source": [
    "<div align=\"right\">Python 2.7 Jupyter Notebook</div>\n",
    "\n",
    "# Application of social analytics\n",
    "\n",
    "### Your completion of the notebook exercises will be graded based on your ability to do the following:\n",
    "\n",
    "> **Understand**: Do your pseudo-code and comments show evidence that you recall and understand technical concepts?\n",
    "\n",
    "> **Evaluate**: Are you able to interpret the results and justify your interpretation based on the observed data?"
   ]
  },
  {
   "cell_type": "markdown",
   "metadata": {},
   "source": [
    "#### Notebook objectives:\n",
    "By the end of this notebook, you will be expected to:\n",
    "> - Understand applications of big data and social science; and\n",
    "- Identify potential pitfalls in applications of big data.\n",
    " \n",
    "####  List of exercises:\n",
    "> - **Exercise 1:** Interpret the risks of using and interpreting results from social data analytics.\n",
    "- **Exercise 2:** Review the design and results of the Google Flu Trends (GFT) program.\n",
    "- **Exercise 3:** Analyze the use of new financial risk models."
   ]
  },
  {
   "cell_type": "markdown",
   "metadata": {},
   "source": [
    "\n",
    "\n",
    "\n",
    "# Notebook introduction\n",
    "In this notebook, you will explore additional case studies and papers that deal with the application of social analytics in practice.\n",
    "\n",
    "The collection of multi-modal and diverse ranges of signals allows us to better understand network modalities and surface patterns that are difficult to observe or extract from noisy or dirty data. Populations, and the patterns they exhibit, are complex by definition, and there is no one-size-fits-all method to approach different studies. Typically, you would start your study with physical sensors, before extending your data set with social (and other) data to better understand the community or group being studied. In many cases, it is difficult to motivate for large-scale data collection processes to be initiated, but data generated for other purposes can be reused to build and extend analyses. Data from the telecommunications industry is a rich source of insight into human behavior, and has been found to be useful in a wide range of topics across multiple fields. This notebook briefly looks at some of these use cases. Using data generated as output of other processes introduces risks (such as changes in the processes that generate the data), but offers the ability to perform analyses that were previously impossible.\n",
    "\n",
    "\n",
    "> **Note**:\n",
    "\n",
    "> The application of many of the concepts in this course is non-trivial, and specific to the use case at hand. Refer to an article by Sekara et al. (2016), which describes a theoretical framework to better understand the [fundamental structures of dynamic social networks](http://www.pnas.org/content/early/2016/08/22/1602803113.full).\n"
   ]
  },
  {
   "cell_type": "markdown",
   "metadata": {},
   "source": [
    "# 1. Healthcare\n",
    "\n",
    "**Human mobility** offers insights into the spreading of disease as well as the ability to identify potential points of origin of diseases. You can read more about two such studies (one already introduced in the video content) below:\n",
    "\n",
    "1. The study of the spread of malaria in Kenya:\n",
    "    - [Using cell phone data to curb the spread of malaria](https://www.hsph.harvard.edu/news/press-releases/cell-phone-data-malaria/)\n",
    "    - [Quantifying travel behavior for infectious disease research: a comparison of data from surveys and mobile phones](http://www.nature.com/articles/srep05678)\n",
    "\n",
    "2. The study of the spread of Ebola in Senegal:\n",
    "    - [Cell-Phone Data Might Help Predict Ebola’s Spread](https://www.technologyreview.com/s/530296/cell-phone-data-might-help-predict-ebolas-spread/)\n",
    "\n",
    "Known data sets can also be used to modify the concept of distance by looking at the number (weight) of people traveling between cities to create an effective distance between locations. This defined value can be used in epidemiological studies to not only predict the spread of contagions, but also to attempt to identify points of origin, based on the same effective distance from all of the locations where the contagion is observed (Brockmann and Helbing 2013).\n",
    "\n",
    "In the video resource, you were provided with a link to an [interactive tool](http://rocs.hu-berlin.de/interactive/page40/index.html), created by Dirk Brockmann, which displays a view of the world based on effective distances. This tool is based on the [article](http://rocs.hu-berlin.de/complex_sys_2015/resources/Seminarpapers/Hidden_geometry_2013.pdf) titled “The Hidden Geometry of Complex, Network-Driven Contagion Phenomena” (Brockmann and Helbing 2013), and has been included here for students wishing to further explore the concept of effective distance."
   ]
  },
  {
   "cell_type": "markdown",
   "metadata": {},
   "source": [
    "<div class=\"alert alert-info\">\n",
    "<b>Exercise 1 Start.</b>\n",
    "</div>\n",
    "\n",
    "### Instructions\n",
    "It is important to ensure that your data set is representative of the observations made, and is relevant to the questions being analyzed. The “Friends and Family” study uses multi-modal data sets. You have also been supplied with additional examples of data sets utilized in other studies. Physical data, sensor data, or survey data can be difficult or expensive to obtain. Although social network data may be easier to obtain, it carries inherent risks. Answer the following two questions based on a hypothetical healthcare case, using data from social network sources as the main input.\n",
    "\n",
    "\n",
    "> a) Are all individuals with high centrality in social networks good candidates for vaccination in a healthcare intervention?\n",
    "\n",
    "> b) What is the most important physical aspect that needs to be accounted for or validated?"
   ]
  },
  {
   "cell_type": "markdown",
   "metadata": {},
   "source": [
    "1. Yes, because people trust others that they have some form of relationship with, targeting such individuals could help boost exposure and minimize distrust based on negative side-effects, etc. This would provide a \"trustable real-world example.\"\n",
    "2. Clustering coefficient, as this provides insight into the spread of ones influence."
   ]
  },
  {
   "cell_type": "markdown",
   "metadata": {},
   "source": [
    "<br>\n",
    "<div class=\"alert alert-info\">\n",
    "<b>Exercise 1 End.</b>\n",
    "</div>\n",
    "\n",
    "> **Exercise complete**:\n",
    "    \n",
    "> This is a good time to \"Save and Checkpoint\"."
   ]
  },
  {
   "cell_type": "markdown",
   "metadata": {},
   "source": [
    "<br>\n",
    "<div class=\"alert alert-info\">\n",
    "<b>Exercise 2 Start.</b>\n",
    "</div>\n",
    "\n",
    "### Instructions\n",
    "\n",
    "> **Review** the [article](http://gking.harvard.edu/files/gking/files/0314policyforumff.pdf) titled “The Parable of Google Flu: Traps in Big Data Analysis” by Lazer et al. (2014).\n",
    "\n",
    "> a) What was the underlying premise of Google Flu Trends (GFT), a program designed by Google for real-time monitoring of flu cases around the world?\n",
    "\n",
    "> b) What went wrong with GFT between 2011 and 2013?\n",
    "\n",
    "> c) Considering that GFT is based on searches of words related to flu, explain what this means when using big data to explain reality. \n",
    "  >> **Hint:**\n",
    "  >>\n",
    "  >> Keep Professor Pentland’s comments on correlation and prediction from earlier modules in mind.\n",
    "\n",
    "> d) How can the GFT model be improved?"
   ]
  },
  {
   "cell_type": "markdown",
   "metadata": {},
   "source": [
    "1. Google Flu Trends utilized search trends and tracked keywords in order to determine the presence of influenza within a population.  \n",
    "2. There was a large over-estimation of how many cases actually occured. Symptoms that fit the criteria, but were actually linked to another health issue, were counted by the model. Using keywords \n",
    "3. Corelation can help with predictions, but does not give causality. Search recommendations and other features of google's platform could have skewed results. Because the search platform was established will in advance, trying to fit the model to the data could have been a source of error. Also, we were utilizing untrained user's information. \n",
    "4. Using a different source of data with a similiar model could be an improvement. WebMD or another platform specific to medical advice could be a better solution."
   ]
  },
  {
   "cell_type": "markdown",
   "metadata": {},
   "source": [
    "<br>\n",
    "<div class=\"alert alert-info\">\n",
    "<b>Exercise 2 End.</b>\n",
    "</div>\n",
    "\n",
    "> **Exercise complete**:\n",
    "    \n",
    "> This is a good time to \"Save and Checkpoint\".\n",
    "\n",
    "<br>\n",
    "<div class=\"alert alert-warning\">\n",
    "<b>Note</b>: Advanced students who wish to gain a better understanding of how clustering models can be used to study the transmission of contagions can refer to an article by Michael Small and C. K. Tse (2005) on [clustering models for the transmission of the SARS virus](http://cktse.eie.polyu.edu.hk/pdf-paper/PhysicaA-0503.pdf).\n",
    "</div>"
   ]
  },
  {
   "cell_type": "markdown",
   "metadata": {},
   "source": [
    "# 2. Human resources\n",
    "\n",
    "In his explanation of how big data may be applied in Human Resources (HR), Arek Stopczynski discusses sociometric badges, face-to-face contact, and privacy considerations.\n",
    "\n",
    "Big data studies that have appropriate interventions can play a significant role in ensuring a more effective, productive, and happy workforce. These studies are often highly sensitive to privacy considerations due to the short time frame between observation and potential impact.\n",
    "\n",
    "## 2.1 Privacy\n",
    "In the video content, Stopczynski also asks whether or not you care (or should care) if a random company knows where you are at any given point in time (for example, a free application on your cellphone requiring location data), and whether your feelings would change if said company was the company that you work for. Many applications where you share your data can also be used to gain insights into aspects of your life that you may not be comfortable sharing with your employer. This is because some of these insights can be taken out of context, resulting in privacy violations and subsequent loss of trust. Consider [Pokemon Go](https://www.reffind.com/pokemon-go-says-employees/) as an application that can potentially be used to gain insights about you.\n",
    "\n",
    "## 2.2 Trust\n",
    "A recent talk by one of Gartner’s analysts, Frank Buytendijk, stated that trust is an emotion. He said, “It is the confidence people have in your future behavior” (Gartner 2015). He then went on to say that “algorithms allow companies to trust people to the exact level they deserve: dynamically and at scale. Trust goes two ways. People must trust your business too, to connect to you. It is the confidence people have in your future behavior” (Gartner 2015).\n",
    "\n",
    "You can read more about the topic on Page 11 of Gartner’s “[Rising to the Challenge of Digital Business](http://gartnerinfo.com/sym25/rising_to_the_challenge_of_d_290064.pdf)” report.\n",
    "\n",
    "The five key dynamics to trust are:\n",
    "* Structure and clarity;\n",
    "* Psychological safety;\n",
    "* Dependability;\n",
    "* Meaning; and\n",
    "* Impact.\n",
    "\n",
    "Those who are interested in exploring additional material on trust can review the following two articles:\n",
    "1. [Out of sight, short of trust](http://www.academia.edu/2887790/Out_of_sight_short_of_trust._Elena_Rocco_Thomas_A._Finholt_and_Erik_C._Hofer_Collaboratory_for_Research_on_Electronic_Work_School_of_Information_University_of_Michigan)\n",
    "2. [Building Trust in High-Performing Teams](http://timreview.ca/sites/default/files/article_PDF/HakanenSoudunsaari_TIMReview_June2012.pdf)\n",
    "\n",
    "Once you are in a trusted relationship with employees, you can start to analyze interesting questions such as “do teams have intelligence”? This question has been answered by [Anita Woolley et al.](http://science.sciencemag.org/content/330/6004/686.full) (2010), and was covered by Arek Stopczynski in the video content.\n",
    "\n",
    "Understanding trust, and the interactions in networks, allows you to make optimal use of the available technologies, structures, and teams, and to build more effective and productive virtual teams. Before considering the potential interventions that you can apply in your particular industry, review the article titled “[Getting Virtual Teams Right](https://hbr.org/2014/12/getting-virtual-teams-right)”, for more information on this topic."
   ]
  },
  {
   "cell_type": "markdown",
   "metadata": {},
   "source": [
    "# 3. Finance and marketing\n",
    "\n",
    "In the financial industry, traditional use of data focused on age, gender, job type, and marital status. This use was oblivious to spatial temporal data and habits of individuals. In the video content, Xiaowen Dong discusses a number of applications of big data in the financial and marketing industries. Many of the topics are relevant to many organizations as these are core activities in most organizations.\n",
    "\n",
    "\n",
    "> **Note**:\n",
    "> You can read more about the use of [financial big data analysis for the estimation of systemic risks](http://economia.unipv.it/docs/dipeco/quad/ps/RePEc/pav/demwpp/DEMWP0086.pdf) in the University of Pavia’s DEM Working Paper Series. \n",
    "\n",
    "\n",
    "A number of initiatives and companies have found ways of using available data sources to build alternative models for assessing credit worthiness that are not based on credit bureau data. These [initiatives](https://www.whitehouse.gov/sites/default/files/microsites/ostp/2016_0504_data_discrimination.pdf) range from government initiatives to creating products in developing countries in order to provide access to communities that did not have access to these services (for example, “[promoting financial inclusion](http://blogs.worldbank.org/psd/promoting-financial-inclusion-is-mobile-money-the-magic-bullet)”, “[filling the gaps between financial access and financial inclusion](https://www.devex.com/news/filling-the-gaps-between-financial-access-and-financial-inclusion-88036)”, and “[Big data, small credit](https://www.omidyar.com/sites/default/files/file_archive/insights/Big%20Data,%20Small%20Credit%20Report%202015/BDSC_Digital%20Final_RV.pdf)”). You can read more about [how to use call data to tap into the low-income customer base](https://www.microfinancegateway.org/library/mobile-phone-data-key-promoting-financial-inclusion) through mobile phones."
   ]
  },
  {
   "cell_type": "markdown",
   "metadata": {},
   "source": [
    "<br>\n",
    "<div class=\"alert alert-info\">\n",
    "<b>Exercise 3 Start.</b>\n",
    "</div>\n",
    "\n",
    "### Instructions\n",
    "\n",
    "> **Review** the article titled “[Using new models and big data to better understand financial risk](http://news.mit.edu/2016/using-new-models-big-data-to-better-understand-financial-risk-0411)”, by Jennifer Donovan (2016).\n",
    "\n",
    "> a) What fundamental observation regarding financial outcomes allows you to gain insights and build products for individuals based on mobile data?\n",
    ">> **Note**: Your answer can be a single statement from the referenced article or you can explain the observation in your own words, based on the content presented in this course.\n",
    "\n",
    "> b) Traditional credit assessments typically build models across three dimensions of an individual: affordability, stability, and willingness (to pay back an extended loan). How can these three characteristics be defined based on mobile phone metadata? In your answer, consider what you have learned regarding social network analysis and predictive modeling using Bandicoot features.\n",
    "\n",
    "> c) Which other sources of data (excluding credit bureau data) can be considered to improve these alternative credit-worthiness assessment models, based only on mobile behavior patterns?\n",
    "\n",
    "> d) What major risk(s) can you think of when credit assessment models are built using only mobile metadata?\n",
    ">> **Hint:**\n",
    ">>\n",
    ">> Refer to the earlier discussion on GFT."
   ]
  },
  {
   "cell_type": "markdown",
   "metadata": {},
   "source": [
    "1. Interactions and social context give us the greatest insights regarding specific users. We must look at the system as a whole if we wish to understand a single part of it.\n",
    "2. Affordability can be assessed using a user's location data. It is very easy, especially today, to look up specific neighborhoods/locations and determine rent, living costs, etc. Stability can be determined by a users travel habits and interaction data. Is this user moving around a lot and always interacting with new people, then they can be considered \"less stable\" than someone who is constantly in the same area and meeting up with the same people. Finally, willingness can be assessed on a variety of factors. One that comes to mind is phone usage times. If a user is taking advantage of lower rates past certain times, or does not use phone during working hours, this can be used to determine their willingness (among other things).\n",
    "3. In-app purchases made, number of times a bank account app is checked, if a user has finance/budgeting apps downloaded. \n",
    "4. When assessment models are built using only metadata, they are prone to error from outliers/unique cases. Without the traditional \"reliable\" info from a credit history, the risk for incorrect assesment, or even user tampering goes up."
   ]
  },
  {
   "cell_type": "markdown",
   "metadata": {},
   "source": [
    "<br>\n",
    "<div class=\"alert alert-info\">\n",
    "<b>Exercise 3 End.</b>\n",
    "</div>\n",
    "\n",
    "> **Exercise complete**:\n",
    "    \n",
    "> This is a good time to \"Save and Checkpoint\"."
   ]
  },
  {
   "cell_type": "markdown",
   "metadata": {
    "collapsed": true
   },
   "source": [
    "# 4. Submit your notebook\n",
    "\n",
    "Please make sure that you:\n",
    "- Perform a final \"Save and Checkpoint\";\n",
    "- Download a copy of the notebook in \".ipynb\" format to your local machine using \"File\", \"Download as\", and \"IPython Notebook (.ipynb)\"; and\n",
    "- Submit a copy of this file to the Online Campus."
   ]
  },
  {
   "cell_type": "markdown",
   "metadata": {
    "collapsed": true
   },
   "source": [
    "# 5. References\n",
    "Brockmann, Dirk, and Dirk Helbing. 2013. “The Hidden Geometry of Complex, Network-Driven Contagion Phenomena.” Science 342:1337-1342. doi:10.1126/science.1245200.\n",
    "\n",
    "Gartner. 2015. “Gartner Says the Economics of Connections in Digital Business are Accelerating by the Use of Algorithms.” Last modified October 5. http://www.gartner.com/newsroom/id/3142918. "
   ]
  },
  {
   "cell_type": "code",
   "execution_count": null,
   "metadata": {
    "collapsed": true
   },
   "outputs": [],
   "source": []
  }
 ],
 "metadata": {
  "kernelspec": {
   "display_name": "Python 2",
   "language": "python",
   "name": "python2"
  },
  "language_info": {
   "codemirror_mode": {
    "name": "ipython",
    "version": 2
   },
   "file_extension": ".py",
   "mimetype": "text/x-python",
   "name": "python",
   "nbconvert_exporter": "python",
   "pygments_lexer": "ipython2",
   "version": "2.7.12"
  }
 },
 "nbformat": 4,
 "nbformat_minor": 0
}
