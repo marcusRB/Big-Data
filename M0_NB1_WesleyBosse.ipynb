{
 "cells": [
  {
   "cell_type": "markdown",
   "metadata": {},
   "source": [
    "<div align=\"right\">Python 2.7 Jupyter Notebook</div>"
   ]
  },
  {
   "cell_type": "markdown",
   "metadata": {},
   "source": [
    "# Getting started with notebooks\n",
    "## Anaconda: Jupyter and Python"
   ]
  },
  {
   "cell_type": "markdown",
   "metadata": {},
   "source": [
    "> **This notebook is not graded.** It serves as an introduction to the notebooks that you will use throughout the rest of the course."
   ]
  },
  {
   "cell_type": "markdown",
   "metadata": {},
   "source": [
    "# Introduction"
   ]
  },
  {
   "cell_type": "markdown",
   "metadata": {},
   "source": [
    "This notebook will introduce the concept of interactive notebooks to those who are unfamiliar with it. As part of the resources provisioned to all students, a dedicated Amazon Web Services (AWS) server is created for each student. Your virtual analysis environment runs Ubuntu Linux and contains Anaconda with Python 2.7, as well as a number of additional installed packages that are relevant to the course, but not present in the default set of packages from Anaconda. All the necessary data, as well as the template notebooks required in this course, will be populated on this server."
   ]
  },
  {
   "cell_type": "markdown",
   "metadata": {},
   "source": [
    "# 1. What is a notebook?"
   ]
  },
  {
   "cell_type": "markdown",
   "metadata": {},
   "source": [
    "[Jupyter Notebooks](http://jupyter-notebook.readthedocs.io/en/latest/notebook.html) are essentially documents that are designed to be easily read by both humans and computers. The elements of a typical notebook include descriptions and analyses, as well as executable code. You can share your code with others and communicate your process and results with a wide array of audiences, from technical to non-technical. Jupyter Notebooks provide a web-based application that is suited to capture the whole computation process: developing, documenting, and executing code, as well as communicating the results.\n",
    "\n",
    "> **Note**\n",
    "\n",
    "> [Try Jupyter](http://jupyter.readthedocs.io/en/latest/tryjupyter.html) is a platform from which you can try Jupyter without installing it onto your system. Please note that this is a service provided by Jupyter and that you may experience delays in cases where many people try to access the service at the same time.\n",
    "\n",
    "For more information, refer to the [Jupyter Documentation](http://jupyter.readthedocs.io/en/latest/tryjupyter.html).\n",
    "\n",
    "> **Note**:\n",
    "\n",
    "> During this course, you will only use the Jupyter Notebooks contained in the Anaconda installation. Notebooks differ from Integrated Development Environments (IDEs) in the sense that they are typically used to interactively analyze and visualize datasets. IDEs are used to create standalone scripts. Should your focus be on pure scripts, which run as standalone items, you can refer to the links below for Python IDEs.\n",
    "\n",
    "> - [Python IDE for programmers](http://noeticforce.com/best-python-ide-for-programmers-windows-and-mac)\n",
    "\n",
    "> - [Top open source Python IDEs](https://opensource.com/business/15/10/top-open-source-python-ides)"
   ]
  },
  {
   "cell_type": "markdown",
   "metadata": {},
   "source": [
    "## 1.1 Notebook tour\n",
    "The IPython shell and subsequent notebooks were created using Python. Jupyter then added support for additional programming languages. For those of you who are not familiar with IPython or Jupyter, it is worthwhile to review [this quick tour](http://nbviewer.jupyter.org/github/jvns/pandas-cookbook/blob/v0.1/cookbook/A%20quick%20tour%20of%20IPython%20Notebook.ipynb) of IPython notebooks.\n",
    "\n",
    "> **Note**: \n",
    "\n",
    "> Autocompletion is achieved by pressing \"Shift+Tab\" instead of \"Tab\" as indicated in the resource above.\n",
    "\n",
    "> You can also download the notebook for later reference [here](https://raw.githubusercontent.com/jvns/pandas-cookbook/v0.1/cookbook/A%20quick%20tour%20of%20IPython%20Notebook.ipynb)."
   ]
  },
  {
   "cell_type": "markdown",
   "metadata": {},
   "source": [
    "## 1.2 Running Jupyter\n",
    "For the purpose of this course, your environment has been preconfigured for you. To access your virtual analysis environment, you need to navigate to your Amazon Web Services instance and enter your password (Instance ID) as shown in the image below.\n",
    "\n",
    "![Login detail](images/Login_Detail.png \"Login detail.\")\n",
    "\n",
    "You will find your login details in the “0.12 Activity: Your AWS instance URL” component on the Online Campus in the Orientation Module.\n",
    "\n",
    "> **Note**:\n",
    "\n",
    "> While running the Jupyter Notebook server locally or setting up your own cloud server is possible, no technical support will be provided for local or alternative cloud installations.\n",
    "\n",
    "> Those interested in setting up local or alternative cloud installations for use outside of this course can refer to the following links:\n",
    "\n",
    "> - **Local installation**: Instructions on [Continuum Analytics's Anaconda download](https://www.continuum.io/downloads) page.\n",
    "\n",
    "> - **Cloud setup**: Instructions on [Continuum Analytics's AWS instructions](https://docs.continuum.io/anaconda/amazon-aws) page."
   ]
  },
  {
   "cell_type": "markdown",
   "metadata": {},
   "source": [
    "## 1.3 Executing your first Python code in a Jupyter Notebook\n",
    "In the toolbar at the top of the notebook you have the option to change the type of cells. The two types that you will use frequently are \"code\" and \"markdown\" cells. Code cells are used to execute code and markdown cells are used to display formatted text. We will get back to these in Module 1.\n",
    "\n",
    "When starting with a new programming language, the first example usually begins with outputting the text \"hello world\".\n",
    "\n",
    "<br>\n",
    "<div class=\"alert alert-warning\">\n",
    "<b>Try this</b><br>\n",
    "Select the code cell below (shaded in grey) and press the ▶ (run cell) button in the toolbar above to run it.<br>\n",
    "Alternatively, you can use the \"shift + enter\" shortcut command to run the cell.\n",
    "</div>"
   ]
  },
  {
   "cell_type": "code",
   "execution_count": null,
   "metadata": {
    "collapsed": false
   },
   "outputs": [],
   "source": [
    "print \"hello world\""
   ]
  },
  {
   "cell_type": "markdown",
   "metadata": {},
   "source": [
    "## 1.4 Basics\n",
    "This section will demonstrate basic notebook commands. You will be provided with additional references that you can explore in your own time, should you be interested in doing so.\n",
    "\n",
    "> **Note**:\n",
    "\n",
    "> In Module 1 you will be provided with a notebook containing Python basics to prepare you for the remainder of the course.\n",
    "\n",
    "### 1.4.1 Performing calculations\n",
    "While it is possible to perform direct calculations, such as those shown in the cell below, you would typically assign the output (of a calculation) to variables for reuse in subsequent calculations or functions. \n",
    "<br><br>\n",
    "<div class=\"alert alert-warning\">\n",
    "<b>Execute the code cell below.</b><br>\n",
    "You will be provided with template notebooks where you need to execute the cells in sequence. Although this note will not be repeated in all cells, you can execute or run the code cells as demonstrated in the \"hello world\" example above.\n",
    "</div>"
   ]
  },
  {
   "cell_type": "code",
   "execution_count": null,
   "metadata": {
    "collapsed": false
   },
   "outputs": [],
   "source": [
    "2 + 2"
   ]
  },
  {
   "cell_type": "markdown",
   "metadata": {},
   "source": [
    "### 1.4.2 Assigning the output of a calculation to a variable"
   ]
  },
  {
   "cell_type": "code",
   "execution_count": null,
   "metadata": {
    "collapsed": true
   },
   "outputs": [],
   "source": [
    "# Assign the value 2 to variable a and the value 3 to variable b.\n",
    "a = 2\n",
    "b = 3"
   ]
  },
  {
   "cell_type": "code",
   "execution_count": null,
   "metadata": {
    "collapsed": false
   },
   "outputs": [],
   "source": [
    "# Assign the value of the product of a and b to the variable c.\n",
    "c = a * b"
   ]
  },
  {
   "cell_type": "code",
   "execution_count": null,
   "metadata": {
    "collapsed": false
   },
   "outputs": [],
   "source": [
    "# Print the value of variable c.\n",
    "print c"
   ]
  },
  {
   "cell_type": "markdown",
   "metadata": {},
   "source": [
    "### 1.4.3 Printing text\n",
    "Change the value of the variable “yourname”, which is currently set to \"student\", to your name and run the two cells below."
   ]
  },
  {
   "cell_type": "code",
   "execution_count": null,
   "metadata": {
    "collapsed": false
   },
   "outputs": [],
   "source": [
    "yourname = \"student\""
   ]
  },
  {
   "cell_type": "code",
   "execution_count": null,
   "metadata": {
    "collapsed": false
   },
   "outputs": [],
   "source": [
    "print 'Hello', yourname"
   ]
  },
  {
   "cell_type": "markdown",
   "metadata": {},
   "source": [
    "### 1.4.4 Writing code\n",
    "You can use built-in Python functions and write your own functions to make tasks reproducible. The two cells below define a function and then execute it. Run them to see the results."
   ]
  },
  {
   "cell_type": "markdown",
   "metadata": {},
   "source": [
    "> **Note**: \n",
    "\n",
    "> In Module 1, you will be provided with an overview and examples of the Python programming concepts and constructs required to complete this course. For now, this notebook simply includes a sample function without additional explanation."
   ]
  },
  {
   "cell_type": "code",
   "execution_count": null,
   "metadata": {
    "collapsed": false
   },
   "outputs": [],
   "source": [
    "# Create a function that prints ten numbers.\n",
    "def print_10_nums():\n",
    "    for i in range(10):\n",
    "        print i,"
   ]
  },
  {
   "cell_type": "code",
   "execution_count": null,
   "metadata": {
    "collapsed": false
   },
   "outputs": [],
   "source": [
    "# Execute your function.\n",
    "print_10_nums()"
   ]
  },
  {
   "cell_type": "markdown",
   "metadata": {},
   "source": [
    "### 1.4.5 Adding comments to your code\n",
    "It is good practice to add comments to your code. This makes it easier for others to interpret your code. It can also help you to understand your own intentions and processes when revisiting notebooks at a later stage. Comments can be added by starting the line with the # symbol."
   ]
  },
  {
   "cell_type": "code",
   "execution_count": null,
   "metadata": {
    "collapsed": false
   },
   "outputs": [],
   "source": [
    "# Set a new variable, d, equal to 10 and print the variable.\n",
    "d = 10\n",
    "print d"
   ]
  },
  {
   "cell_type": "markdown",
   "metadata": {},
   "source": [
    "### 1.4.6 Help and autocomplete\n",
    "You will be introduced to packages and libraries in subsequent modules. These contain reusable code where you can “call” repeatable functions instead of manually writing code or creating your own functions. To load a package or library, you first need to ensure that it has been installed. Then you may import and finally use the package.\n",
    "\n",
    "You can execute the cell below to check whether a package has been installed on your system."
   ]
  },
  {
   "cell_type": "code",
   "execution_count": null,
   "metadata": {
    "collapsed": false
   },
   "outputs": [],
   "source": [
    "# Check whether Pandas is installed.\n",
    "# Import system configuration.\n",
    "import sys\n",
    "\n",
    "# Check whether Numpy package is available in system.\n",
    "'numpy' in sys.modules"
   ]
  },
  {
   "cell_type": "markdown",
   "metadata": {},
   "source": [
    "If you need to display a package’s help function, you can execute the following command:"
   ]
  },
  {
   "cell_type": "code",
   "execution_count": null,
   "metadata": {
    "collapsed": false
   },
   "outputs": [],
   "source": [
    "help('pandas')"
   ]
  },
  {
   "cell_type": "markdown",
   "metadata": {},
   "source": [
    "If you know that a package has been installed, or you have checked that it exists, you can import it to make it available for you to use in your notebook. You should be able to execute the cell below without errors if the package is available to your notebook. The selected package is part of the standard packages installed with the Anaconda Python distribution and will complete without errors.\n",
    "\n",
    "> **Note**:\n",
    "\n",
    "> You have to import the packages that you use for every notebook that you work on. It is good practice to load the packages once, close to the top of the notebook, prior to executing code. We will deviate from this best practice in the first module of the course, and load the packages when introducing their functionality."
   ]
  },
  {
   "cell_type": "code",
   "execution_count": null,
   "metadata": {
    "collapsed": true
   },
   "outputs": [],
   "source": [
    "# Import Pandas.\n",
    "import pandas as pd"
   ]
  },
  {
   "cell_type": "markdown",
   "metadata": {},
   "source": [
    "You can also display the help function by using the ? symbol, as shown below. Close the output by selecting the x at the top right corner (of the output) once you have reviewed it.\n",
    "\n",
    "![Pandas help function](images/Pandas_Help.png \"Pandas help function.\")"
   ]
  },
  {
   "cell_type": "code",
   "execution_count": null,
   "metadata": {
    "collapsed": false
   },
   "outputs": [],
   "source": [
    "# Display the help for the library imported.\n",
    "pd?"
   ]
  },
  {
   "cell_type": "markdown",
   "metadata": {},
   "source": [
    "Autocomplete can be used to display information about the package as well as the libraries contained in the package. Place your cursor after the full stop in the cell below, and press \"Shift+Tab\" once to display information about the package. Pressing \"Shift+Tab\" a second time will display the libraries available in the package."
   ]
  },
  {
   "cell_type": "markdown",
   "metadata": {},
   "source": [
    "<div class=\"alert alert-warning\">\n",
    "<b>Note</b>:<br>\n",
    "The cells below will produce an error if executed. Here, the intention is to demonstrate autocomplete. Please follow the instructions below.\n",
    "</div>"
   ]
  },
  {
   "cell_type": "code",
   "execution_count": null,
   "metadata": {
    "collapsed": false
   },
   "outputs": [],
   "source": [
    "pd."
   ]
  },
  {
   "cell_type": "markdown",
   "metadata": {},
   "source": [
    "Once you have selected a library, you can also use the autocomplete to show the help function and the input parameters that can be utilized in a specific library. Place your cursor after the full stop in the cell below and press \"Shift+Tab\" to review the input parameters available to the specific library."
   ]
  },
  {
   "cell_type": "code",
   "execution_count": null,
   "metadata": {
    "collapsed": false
   },
   "outputs": [],
   "source": [
    "# Use autocomplete to see the availble input parameters.\n",
    "pd.read_csv("
   ]
  },
  {
   "cell_type": "markdown",
   "metadata": {},
   "source": [
    "# 2. Working with notebooks\n",
    "This section will introduce some of the basics you will require when working with your notebooks throughout the course.\n",
    "\n",
    "## 2.1 Navigating the Jupyter interface\n",
    "When you are in a notebook such as this one, you can click on the \"Jupyter\" logo at the top left-hand corner of the screen to return to the directory view. The autosave function will save content periodically, but make sure to select \"File\" and \"Save and Checkpoint\" from the menu at the top of the screen, if there are any changes that you wish to save.\n",
    "\n",
    "![Save and Navigate](images/Save_and_Navigate.png \"Save and Navigate.\")"
   ]
  },
  {
   "cell_type": "markdown",
   "metadata": {},
   "source": [
    "## 2.2 Creating notebooks\n",
    "Once in the directory view, you can navigate to the required folder and select \"New\" and \"Python notebook\" at the top right-hand corner of the screen to create a new notebook. You can rename notebooks from the directory view or while in the actual notebook (by selecting the notebook name at the top of the screen).\n",
    "\n",
    "![Create a new notebook](images/Notebook_Create.png \"Create a new notebook.\")"
   ]
  },
  {
   "cell_type": "markdown",
   "metadata": {},
   "source": [
    "## 2.3 Shutting down notebooks\n",
    "<br>\n",
    "<div class=\"alert alert-warning\">\n",
    "<b>Note</b>:<br>\n",
    "You will often have multiple notebooks running at the same time, but it is good practice to shut down notebooks that are not in use. This is because you typically have limited resources on the machine hosting your notebooks or pay for the amount of cloud resources that you consume. Shutting down notebooks that are not in use frees up resources for computational purposes, which enables improved user experience and results in fewer expenses when hosted on cloud environments.\n",
    "</div>\n",
    "\n",
    "You can shut down notebooks in a number of ways. The first way is to select \"File\" and then \"Close and Halt\" (in the drop-down menu) from within the running notebook. The second, recommended way is to navigate to your directory view by selecting the Jupyter logo or switching to a window in which the directory is already open. Then, select the \"Running\" tab at the top of the screen and shut down all unnecessary notebooks by selecting the \"Shutdown\" option on the right of the screen (above the notebooks).\n",
    "\n",
    "> ![Running Notebooks](images/NotebooksRunningAll.png \"Image of notebooks currently running.\")\n",
    "\n",
    "When starting a session, it is recommended that you review all of the notebooks that are currently running, and shut down those not in use. Before leaving, or logging out of, your environment, revisit the “Running” tab on your directory view, and shut down all of the notebooks.\n",
    "\n",
    "> ![Running Notebooks](images/NotebooksRunningNone.png \"Image of no running notebooks.\")"
   ]
  },
  {
   "cell_type": "markdown",
   "metadata": {},
   "source": [
    "# 3. Additional resources\n",
    "As part of their explanation of [Open data science](https://www.continuum.io/open-data-science), Continuum Analytics states that:\n",
    "\n",
    "> Open data science is not a single technology, but a revolution within the data science community. Open Data Science is an inclusive movement that makes open source tools for data science - data, analytics and computation - easily work together as a connected ecosystem.\n",
    "\n",
    "> (Continuum Analytics 2016)\n",
    "\n",
    "This course is not positioned as a Python training course, but it will introduce the relevant Python constructs for users who are not familiar with it. This section contains additional (optional) resources. You are welcome to explore these resources during the Orientation Module, should you want to explore some of the related topics and improve your Python skills.\n",
    "\n",
    "> **Python**:\n",
    "\n",
    "> [Python for beginners](https://www.python.org/about/gettingstarted/)\n",
    "\n",
    "> [Code Academy: Learn to program Python](https://www.codecademy.com/learn/python)\n"
   ]
  },
  {
   "cell_type": "markdown",
   "metadata": {},
   "source": [
    "# 4. Submit your notebook\n",
    "\n",
    "<br><div class=\"alert alert-warning\">\n",
    "<b>Note</b>:<br>\n",
    "There are no graded activities in this notebook, but you are required to submit this notebook in a valid \".ipynb\" format in order to complete Orientation Module.\n",
    "</div>\n",
    "\n",
    "Use the following four-step process, when submitting your notebooks for assessment:\n",
    "\n",
    "1. Rename the file by clicking on the notebook name at the top (\"M0NB1_GettingStarted\") and change this to “M0_NB1_YourName”.\n",
    "2. On the menu at the top left, select “File” and then “Save and Checkpoint”.\n",
    "3. Save a copy of the changed file to your own laptop or desktop. This needs to be submitted, and also serves as a backup of your files should any of the content on the virtual machine be refreshed. Select “File”, “Download as” and then select “IPython Notebook (.ipynb)” from the menu that appears.\n",
    "4. Upload this file to the Online Campus."
   ]
  },
  {
   "cell_type": "markdown",
   "metadata": {},
   "source": [
    "# 5. References\n",
    "Continuum Analytics. 2016. “Open Data Science | Continuum.” Accessed September 9. https://www.continuum.io/open-data-science. "
   ]
  },
  {
   "cell_type": "markdown",
   "metadata": {
    "collapsed": false
   },
   "source": [
    "> **Note**: Ensure that you keep a safe copy of all the notebooks that you change."
   ]
  }
 ],
 "metadata": {
  "anaconda-cloud": {},
  "kernelspec": {
   "display_name": "Python 2",
   "language": "python",
   "name": "python2"
  },
  "language_info": {
   "codemirror_mode": {
    "name": "ipython",
    "version": 2
   },
   "file_extension": ".py",
   "mimetype": "text/x-python",
   "name": "python",
   "nbconvert_exporter": "python",
   "pygments_lexer": "ipython2",
   "version": "2.7.12"
  }
 },
 "nbformat": 4,
 "nbformat_minor": 0
}
