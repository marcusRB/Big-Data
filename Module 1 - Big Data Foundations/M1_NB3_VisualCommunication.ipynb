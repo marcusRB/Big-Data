{
 "cells": [
  {
   "cell_type": "markdown",
   "metadata": {},
   "source": [
    "<div align=\"right\">Python 2.7 Jupyter Notebook</div>"
   ]
  },
  {
   "cell_type": "markdown",
   "metadata": {},
   "source": [
    "# Visual communication\n",
    "## Geocoding and markdown examples"
   ]
  },
  {
   "cell_type": "markdown",
   "metadata": {},
   "source": [
    "### Your completion of the notebook exercises will be graded based on your ability to do the following:\n",
    "\n",
    "> **Apply**: Are you able to execute code (using the supplied examples) that performs the required functionality on supplied or generated data sets?\n",
    "\n",
    "> **Evaluate**: Are you able to interpret the results and justify your interpretation based on the observed data?\n",
    "\n",
    "> **Create**: Are you able to produce notebooks that serve as computational records of a session, and which can be used to share your insights with others? "
   ]
  },
  {
   "cell_type": "markdown",
   "metadata": {},
   "source": [
    "#### Notebook objectives\n",
    "By the end of this notebook, you will be expected to be able to use geocoding within Python and communicate your ideas using markdown.\n",
    " \n",
    "####  List of exercises\n",
    ">   - Exercise 1: Plot student count.\n",
    "  - Exercise 2: Markdown."
   ]
  },
  {
   "cell_type": "markdown",
   "metadata": {},
   "source": [
    "# Notebook introduction\n",
    "Working with data helps you make informed decisions. There is a wealth of information in the form of articles about being \"data driven\". There have also been technological and systems development best practices for a couple of decades, many of which contain great input and guidelines.\n",
    "\n",
    "One of the biggest problems we are facing with tools, technology, and best practices is the rate of change. David Shrier discusses the concept of the half-life of data in the video content in this module. The half-life of tools, technologies, and best practices in the information technology industry is also shortening.\n",
    "\n",
    "Your enrollment in this course demonstrates your ability to see value in data-driven approaches, and the opportunities that advances in technology bring. As you continue your journey, you will discover additional sources of information, such as the rich communities on [GitHub](https://github.com/search?utf8=%E2%9C%93&q=data+science), where users share code and learn from others.\n",
    "\n",
    "This notebook works through an example containing data from the students enrolled in this course. In many cases, you will need to enrich your existing data sets, as changing the collection process is not always an option. This notebook demonstrates how country and city locations (in text format) can be utilized to geocode cities to locations that can be plotted on a map.\n",
    "\n",
    "While you should not share answers with classmates, you are encouraged to ask for assistance, and post examples and syntax structures that you have found helpful, on the forums."
   ]
  },
  {
   "cell_type": "markdown",
   "metadata": {},
   "source": [
    "> **Note**: \n",
    "\n",
    "> We strongly recommend that you save and checkpoint after applying significant changes or completing exercises. This allows you to return the notebook to a previous state should you wish to do so. On the Jupyter menu, select \"File\", then \"Save and Checkpoint\" from the dropdown menu that appears."
   ]
  },
  {
   "cell_type": "markdown",
   "metadata": {},
   "source": [
    "#### Load libraries and set options"
   ]
  },
  {
   "cell_type": "code",
   "execution_count": 1,
   "metadata": {
    "collapsed": false
   },
   "outputs": [
    {
     "name": "stdout",
     "output_type": "stream",
     "text": [
      "Populating the interactive namespace from numpy and matplotlib\n"
     ]
    }
   ],
   "source": [
    "# Load relevant libraries.\n",
    "import pandas as pd\n",
    "import numpy as np\n",
    "import matplotlib\n",
    "import folium\n",
    "import geocoder\n",
    "%pylab inline\n",
    "pylab.rcParams['figure.figsize'] = (10, 8)"
   ]
  },
  {
   "cell_type": "markdown",
   "metadata": {},
   "source": [
    "# 1. Introduction to geocoding\n",
    "Geocoding is the process of transforming a description of a location into a spatial (physical) location on the earth’s surface. You can geocode by entering one location’s description at a time or by simultaneously providing multiple descriptions in a table.\n",
    "\n",
    "## 1.1 Geocoder\n",
    "There are several geocoding libraries and services available. This notebook demonstrates the use of the [Geocoder](https://pypi.python.org/pypi/geocoder/) Python library, using [Google Maps](https://maps.google.com) as the provider.\n",
    "\n",
    "Start by geocoding a single city and country combination. You can change the values of the city, should you wish to do so."
   ]
  },
  {
   "cell_type": "code",
   "execution_count": 2,
   "metadata": {
    "collapsed": false
   },
   "outputs": [
    {
     "data": {
      "text/plain": [
       "[-34.9284989, 138.6007456]"
      ]
     },
     "execution_count": 2,
     "metadata": {},
     "output_type": "execute_result"
    }
   ],
   "source": [
    "# Let's geocode a city in the format of the data set that we have available.\n",
    "g = geocoder.google('Adelaide, Australia')\n",
    "\n",
    "# Print the latitude and longitude for the city.\n",
    "g.latlng"
   ]
  },
  {
   "cell_type": "markdown",
   "metadata": {},
   "source": [
    "You can use the same library to find the location, based on IP addresses. When executing this in your virtual analysis environment, the location of the server will be returned."
   ]
  },
  {
   "cell_type": "code",
   "execution_count": 3,
   "metadata": {
    "collapsed": false
   },
   "outputs": [
    {
     "data": {
      "text/plain": [
       "[47.6344, -122.3422]"
      ]
     },
     "execution_count": 3,
     "metadata": {},
     "output_type": "execute_result"
    }
   ],
   "source": [
    "# Find your location based on your IP address.\n",
    "mylocation = geocoder.ip('me')\n",
    "\n",
    "# Print your location.\n",
    "mylocation.latlng"
   ]
  },
  {
   "cell_type": "markdown",
   "metadata": {},
   "source": [
    "## 1.2 Input data: Student location\n",
    "\n",
    "An earlier snapshot of the student group has been extracted, a new unique identifier generated, and the industry, country, and city have been included. The aim here is to show you what can be achieved with minimal input."
   ]
  },
  {
   "cell_type": "markdown",
   "metadata": {},
   "source": [
    "### 1.2.1 Load the data"
   ]
  },
  {
   "cell_type": "code",
   "execution_count": 5,
   "metadata": {
    "collapsed": false
   },
   "outputs": [
    {
     "data": {
      "text/html": [
       "<div>\n",
       "<table border=\"1\" class=\"dataframe\">\n",
       "  <thead>\n",
       "    <tr style=\"text-align: right;\">\n",
       "      <th></th>\n",
       "      <th>id</th>\n",
       "      <th>industry</th>\n",
       "      <th>country</th>\n",
       "      <th>city</th>\n",
       "    </tr>\n",
       "  </thead>\n",
       "  <tbody>\n",
       "    <tr>\n",
       "      <th>0</th>\n",
       "      <td>10001</td>\n",
       "      <td>Agriculture</td>\n",
       "      <td>United States</td>\n",
       "      <td>Davis</td>\n",
       "    </tr>\n",
       "    <tr>\n",
       "      <th>1</th>\n",
       "      <td>10002</td>\n",
       "      <td>Arts &amp; Education</td>\n",
       "      <td>Australia</td>\n",
       "      <td>Perth</td>\n",
       "    </tr>\n",
       "    <tr>\n",
       "      <th>2</th>\n",
       "      <td>10003</td>\n",
       "      <td>Arts &amp; Education</td>\n",
       "      <td>Austria</td>\n",
       "      <td>Lieboch</td>\n",
       "    </tr>\n",
       "    <tr>\n",
       "      <th>3</th>\n",
       "      <td>10004</td>\n",
       "      <td>Arts &amp; Education</td>\n",
       "      <td>Brazil</td>\n",
       "      <td>São Paulo</td>\n",
       "    </tr>\n",
       "    <tr>\n",
       "      <th>4</th>\n",
       "      <td>10005</td>\n",
       "      <td>Arts &amp; Education</td>\n",
       "      <td>Canada</td>\n",
       "      <td>Georgetown</td>\n",
       "    </tr>\n",
       "  </tbody>\n",
       "</table>\n",
       "</div>"
      ],
      "text/plain": [
       "      id          industry        country        city\n",
       "0  10001       Agriculture  United States       Davis\n",
       "1  10002  Arts & Education      Australia       Perth\n",
       "2  10003  Arts & Education        Austria     Lieboch\n",
       "3  10004  Arts & Education         Brazil   São Paulo\n",
       "4  10005  Arts & Education         Canada  Georgetown"
      ]
     },
     "execution_count": 5,
     "metadata": {},
     "output_type": "execute_result"
    }
   ],
   "source": [
    "# Load student location data and display the header.\n",
    "df = pd.read_csv('students_raw.csv')\n",
    "df.head()"
   ]
  },
  {
   "cell_type": "markdown",
   "metadata": {},
   "source": [
    "Consider the forms and applications that you complete regularly. While you may be happy to share your personal information with the company providing you with a product or service, it is highly likely that you would be unhappy if that company started sharing your information publicly. Many people provide this data on social media and public forums, and do not necessarily consider the potential consequences.\n",
    "\n",
    "One of the techniques to hide sensitive data is to only release aggregated data. The greatest disadvantage of this approach is that you are still able to identify people in low-density areas of the data set. You need to be extremely careful when designing applications that utilize personal data to ensure that you do not breach the trust of the users who have supplied you with their data.\n",
    "\n",
    "Names, surnames, telephone numbers, and email addresses have been removed, however, you may still be able to identify students. This will be demonstrated later in this course."
   ]
  },
  {
   "cell_type": "markdown",
   "metadata": {},
   "source": [
    "### 1.2.2 Prepare the data"
   ]
  },
  {
   "cell_type": "code",
   "execution_count": 6,
   "metadata": {
    "collapsed": false
   },
   "outputs": [
    {
     "data": {
      "text/html": [
       "<div>\n",
       "<table border=\"1\" class=\"dataframe\">\n",
       "  <thead>\n",
       "    <tr style=\"text-align: right;\">\n",
       "      <th></th>\n",
       "      <th>country</th>\n",
       "      <th>city</th>\n",
       "      <th>industry</th>\n",
       "      <th>student_count</th>\n",
       "    </tr>\n",
       "  </thead>\n",
       "  <tbody>\n",
       "    <tr>\n",
       "      <th>0</th>\n",
       "      <td>Australia</td>\n",
       "      <td>Adelaide</td>\n",
       "      <td>Other or Unknown</td>\n",
       "      <td>1</td>\n",
       "    </tr>\n",
       "    <tr>\n",
       "      <th>1</th>\n",
       "      <td>Australia</td>\n",
       "      <td>Bronte</td>\n",
       "      <td>Other or Unknown</td>\n",
       "      <td>1</td>\n",
       "    </tr>\n",
       "    <tr>\n",
       "      <th>2</th>\n",
       "      <td>Australia</td>\n",
       "      <td>Buddina</td>\n",
       "      <td>ICT</td>\n",
       "      <td>1</td>\n",
       "    </tr>\n",
       "    <tr>\n",
       "      <th>3</th>\n",
       "      <td>Australia</td>\n",
       "      <td>Carlingford</td>\n",
       "      <td>ICT</td>\n",
       "      <td>1</td>\n",
       "    </tr>\n",
       "    <tr>\n",
       "      <th>4</th>\n",
       "      <td>Australia</td>\n",
       "      <td>Glen Waverley</td>\n",
       "      <td>ICT</td>\n",
       "      <td>1</td>\n",
       "    </tr>\n",
       "    <tr>\n",
       "      <th>5</th>\n",
       "      <td>Australia</td>\n",
       "      <td>Haberfield</td>\n",
       "      <td>ICT</td>\n",
       "      <td>1</td>\n",
       "    </tr>\n",
       "    <tr>\n",
       "      <th>6</th>\n",
       "      <td>Australia</td>\n",
       "      <td>Kellyville</td>\n",
       "      <td>Other or Unknown</td>\n",
       "      <td>1</td>\n",
       "    </tr>\n",
       "    <tr>\n",
       "      <th>7</th>\n",
       "      <td>Australia</td>\n",
       "      <td>Kogarah Bay</td>\n",
       "      <td>Other or Unknown</td>\n",
       "      <td>1</td>\n",
       "    </tr>\n",
       "    <tr>\n",
       "      <th>8</th>\n",
       "      <td>Australia</td>\n",
       "      <td>Logan</td>\n",
       "      <td>Other or Unknown</td>\n",
       "      <td>1</td>\n",
       "    </tr>\n",
       "    <tr>\n",
       "      <th>9</th>\n",
       "      <td>Australia</td>\n",
       "      <td>Manly</td>\n",
       "      <td>Other or Unknown</td>\n",
       "      <td>1</td>\n",
       "    </tr>\n",
       "  </tbody>\n",
       "</table>\n",
       "</div>"
      ],
      "text/plain": [
       "     country           city          industry  student_count\n",
       "0  Australia       Adelaide  Other or Unknown              1\n",
       "1  Australia         Bronte  Other or Unknown              1\n",
       "2  Australia        Buddina               ICT              1\n",
       "3  Australia    Carlingford               ICT              1\n",
       "4  Australia  Glen Waverley               ICT              1\n",
       "5  Australia     Haberfield               ICT              1\n",
       "6  Australia     Kellyville  Other or Unknown              1\n",
       "7  Australia    Kogarah Bay  Other or Unknown              1\n",
       "8  Australia         Logan   Other or Unknown              1\n",
       "9  Australia          Manly  Other or Unknown              1"
      ]
     },
     "execution_count": 6,
     "metadata": {},
     "output_type": "execute_result"
    }
   ],
   "source": [
    "# Step 1: Group the data to hide the user id.\n",
    "df1 = pd.DataFrame(df.groupby(['country', 'city', 'industry'])['id'].count()).reset_index()\n",
    "df1 = df1.rename(columns = {'id':'student_count'})\n",
    "df1.head(10)"
   ]
  },
  {
   "cell_type": "markdown",
   "metadata": {},
   "source": [
    "### 1.2.3 Retrieve the data for a specific city"
   ]
  },
  {
   "cell_type": "code",
   "execution_count": null,
   "metadata": {
    "collapsed": false
   },
   "outputs": [],
   "source": [
    "# Return all rows for New York.\n",
    "df1.loc[df1['city'] == 'New York']"
   ]
  },
  {
   "cell_type": "markdown",
   "metadata": {},
   "source": [
    "### 1.2.4 Plot the students per country"
   ]
  },
  {
   "cell_type": "code",
   "execution_count": 8,
   "metadata": {
    "collapsed": false
   },
   "outputs": [
    {
     "data": {
      "text/plain": [
       "<matplotlib.axes._subplots.AxesSubplot at 0x7ffaee9e7fd0>"
      ]
     },
     "execution_count": 8,
     "metadata": {},
     "output_type": "execute_result"
    },
    {
     "data": {
      "image/png": "[encoded data removed]",
      "text/plain": [
       "<matplotlib.figure.Figure at 0x7ffaee977cd0>"
      ]
     },
     "metadata": {},
     "output_type": "display_data"
    }
   ],
   "source": [
    "# Plot the count of students per country.\n",
    "country_counts = df1.groupby(['country'])['student_count'].count()\n",
    "country_counts.plot(kind='bar')"
   ]
  },
  {
   "cell_type": "markdown",
   "metadata": {},
   "source": [
    "### 1.2.5 Plot the students per industry"
   ]
  },
  {
   "cell_type": "code",
   "execution_count": null,
   "metadata": {
    "collapsed": false
   },
   "outputs": [],
   "source": [
    "# Plot the count of students per industry.\n",
    "industry_counts = df1.groupby(['industry'])['student_count'].count()\n",
    "industry_counts.plot(kind='bar')"
   ]
  },
  {
   "cell_type": "markdown",
   "metadata": {},
   "source": [
    "<br>\n",
    "<div class=\"alert alert-info\">\n",
    "<b>Exercise 1 start: Plot student count.</b>\n",
    "</div>\n",
    "\n",
    "### Instructions\n",
    "#### Plot the count of students per city for a specific country.\n",
    "\n",
    "1. Create a data frame with the list of cities in your country that are present in this data set. Should the data set be too sparsely or densely populated for your country, you are welcome to select another. Use the variable name \"df3\" for your subset.\n",
    "\n",
    "2. Create a bar plot for the cities in this country, indicating the number of students in each city.\n",
    "\n",
    "> **Hint**: \n",
    "\n",
    "> Create a new subset of the data set first: \n",
    "\n",
    ">  ```new_df = df.loc[df['column'] == 'value']```"
   ]
  },
  {
   "cell_type": "code",
   "execution_count": 15,
   "metadata": {
    "collapsed": false
   },
   "outputs": [
    {
     "data": {
      "text/plain": [
       "<matplotlib.axes._subplots.AxesSubplot at 0x7ffaec4c0250>"
      ]
     },
     "execution_count": 15,
     "metadata": {},
     "output_type": "execute_result"
    },
    {
     "data": {
      "image/png": "[encoded data removed]",
      "text/plain": [
       "<matplotlib.figure.Figure at 0x7ffaeb812550>"
      ]
     },
     "metadata": {},
     "output_type": "display_data"
    }
   ],
   "source": [
    "new_df = df.loc[df['country'] == 'Australia']\n",
    "df3 = new_df.groupby(['city'])['id'].count()\n",
    "df3.plot(kind='bar')"
   ]
  },
  {
   "cell_type": "markdown",
   "metadata": {},
   "source": [
    "<br>\n",
    "<div class=\"alert alert-info\">\n",
    "<b>Exercise 1 End.</b>\n",
    "</div>\n",
    "\n",
    "> **Exercise complete**:\n",
    "    \n",
    "> This is a good time to \"Save and Checkpoint\"."
   ]
  },
  {
   "cell_type": "markdown",
   "metadata": {},
   "source": [
    "### 1.2.6 Prepare the data frame for geocoding"
   ]
  },
  {
   "cell_type": "code",
   "execution_count": null,
   "metadata": {
    "collapsed": false
   },
   "outputs": [],
   "source": [
    "# We tested the geocoder library with town and country as input. \n",
    "# Let's create a new column in our dataframe that contains these values.\n",
    "df1['geocode_input'] = df1['city'] + ', ' + df1['country']\n",
    "\n",
    "# We also create two additional columns for lattitude and longitude.\n",
    "df1['lat'], df1['long'] = [0, 0]\n",
    "\n",
    "# Display the head of the updated dataframe.\n",
    "df1.head()"
   ]
  },
  {
   "cell_type": "markdown",
   "metadata": {},
   "source": [
    "## 1.3 Geocoding the data\n",
    "Next, geocode the cities in the student registrations list in order to display their locations on a map.\n",
    "\n",
    "Executing the cell below is **optional**. This cell will run through a loop and geocode each of the city and country combinations provided as input. This process may take up to 5 minutes as the response time is influenced by the target server capacity.\n",
    "\n",
    "On a course such as this one, where there is a large number of students, you may experience a delay in response. This opportunity will therefore be used to demonstrate how you can save intermediary results as an output file, which you can then load when resuming your analysis at a later stage, without having to redo all of the processing.\n",
    "\n",
    "Should you choose not to execute the cell, you will have to retrieve the geocoded data set in the cell that follows."
   ]
  },
  {
   "cell_type": "code",
   "execution_count": null,
   "metadata": {
    "collapsed": false,
    "scrolled": true
   },
   "outputs": [],
   "source": [
    "# Now we use Geocoder in a loop to gecode the cities and update our dataframe.\n",
    "# Wait until the In{*} indicator on the lefthand side changes to a number before proceeding.\n",
    "\n",
    "for i in range(len(df1)):\n",
    "    g = geocoder.google(df1.loc[i,'geocode_input'])\n",
    "    df1.ix[i,'lat'] = g.lat\n",
    "    df1.ix[i,'long'] = g.lng\n",
    "print 'Geocoding complete!'"
   ]
  },
  {
   "cell_type": "markdown",
   "metadata": {},
   "source": [
    "If you opted to execute the cell above, wait for it to complete. The \"In[ ]\" will show \"In[*]\" while being executed, and will change to \"In[number]\" when complete. If this step has been completed successfully, you won’t have to load the data set in the following cell. Should you choose to execute the cell, no harm will be done. You will simply overwrite your geocoded data set with the supplied geocoded data set.\n",
    "\n",
    "If you opted to not execute the cell above, you will need to execute the cell below to retrieve the data set that has already been geocoded for you, in order to proceed."
   ]
  },
  {
   "cell_type": "code",
   "execution_count": null,
   "metadata": {
    "collapsed": true
   },
   "outputs": [],
   "source": [
    "# Load geocoded dataset if you chose not to execute.\n",
    "df1 = pd.read_csv('grouped_geocoded.csv',index_col=0)"
   ]
  },
  {
   "cell_type": "code",
   "execution_count": null,
   "metadata": {
    "collapsed": false
   },
   "outputs": [],
   "source": [
    "# Let's look at the dataframe again to see the populated values for latitude and longitude.\n",
    "df1.head()"
   ]
  },
  {
   "cell_type": "markdown",
   "metadata": {},
   "source": [
    "## 1.4 Saving and retrieving your result\n",
    "In some cases, you may want to save result sets. You can use this technique to store copies of intermediary results when you do not wish to perform the calculations again when resuming your analysis. This technique may also be used to output the result so that it may be shared or used in other applications. This example demonstrates how to save the file as a CSV in the current working directory, \"module_1\"."
   ]
  },
  {
   "cell_type": "code",
   "execution_count": null,
   "metadata": {
    "collapsed": false
   },
   "outputs": [],
   "source": [
    "# To save the output to a file you can use the command below and replace \"filename_export\" with a name of your choice.\n",
    "df1.to_csv('filename_export.csv')"
   ]
  },
  {
   "cell_type": "code",
   "execution_count": null,
   "metadata": {
    "collapsed": true
   },
   "outputs": [],
   "source": [
    "# To load the file you just generated, you can replace the filename below with the one you entered in the previous cell.\n",
    "# Create a new Pandas dataframe with the file created in the previous cell.\n",
    "new_df = pd.read_csv('filename_export.csv')"
   ]
  },
  {
   "cell_type": "markdown",
   "metadata": {},
   "source": [
    "## 1.5 Plotting the geocoded data on a map\n",
    "\n",
    "Visit the Folium [documentation](http://folium.readthedocs.io/en/latest/) or browse the [GitHub](https://github.com/python-visualization/folium) repository for further instructions and examples on how to plot geocoded data.\n",
    "\n",
    "Feel free to change the map and try visualizing the count of students per country or the count of students per industry per country."
   ]
  },
  {
   "cell_type": "code",
   "execution_count": null,
   "metadata": {
    "collapsed": false
   },
   "outputs": [],
   "source": [
    "# Set map center and zoom level.\n",
    "mapc = [0, 30]\n",
    "zoom = 2\n",
    "\n",
    "# Create map object.\n",
    "map_osm = folium.Map(location=mapc,\n",
    "                    zoom_start=zoom)\n",
    "\n",
    "# Plot each of the locations that we geocoded.\n",
    "for j in range(len(df1)):\n",
    "    folium.Marker([df1.ix[j,'lat'], df1.ix[j,'long']],\n",
    "        icon=folium.Icon(color='green',icon='info-sign')\n",
    "        ).add_to(map_osm)\n",
    "\n",
    "# Plot your server location.\n",
    "folium.CircleMarker(mylocation.latlng,\n",
    "              radius=500000,\n",
    "              popup='My Server Location',\n",
    "              fill_color='#3186cc'\n",
    "             ).add_to(map_osm)\n",
    "\n",
    "# Show the map.\n",
    "map_osm"
   ]
  },
  {
   "cell_type": "code",
   "execution_count": null,
   "metadata": {
    "collapsed": true
   },
   "outputs": [],
   "source": [
    "# Feel free to experiment here with mapping options.\n",
    "# You can copy and paste the code from the cell above and change markers, zoom level \n",
    "# or add additional features demonstrated on the Folium site in this cell.\n",
    "\n",
    "\n"
   ]
  },
  {
   "cell_type": "markdown",
   "metadata": {},
   "source": [
    "# 2. Communicating your analysis\n",
    "\n",
    "In the orientation module notebook as well as the second notebook in this module, the markdown mechanism was briefly introduced. This mechanism has been used to provide instructions and images to you within these notebooks.\n",
    "\n",
    "You can select \"Help\" and then \"Markdown\" in the Jupyter menu at the top of the screen to take you to additional links.\n",
    "\n",
    "Use a couple of the cells below to demonstrate your ability to communicate your ideas using markdown. You can state your intention, describe your steps, and include code, comments, and visualizations in the cells below."
   ]
  },
  {
   "cell_type": "markdown",
   "metadata": {
    "collapsed": true
   },
   "source": [
    "<br>\n",
    "<div class=\"alert alert-info\">\n",
    "<b>Exercise 2 start: Markdown.</b>\n",
    "</div>\n",
    "\n",
    "### Instructions\n",
    "#### Getting comfortable with markdown.\n",
    "\n",
    "> Notebook documents contain the inputs and outputs of an interactive session, as well as additional text that accompanies the code but is not meant for execution. In this way, notebook files can serve as a complete computational record of a session. To this purpose, this exercise requires you to complete the section below using a combination of markdown instructions and code. The content that you submit will not be evaluated critically, but it is important that you display the ability to master the basics of markdown.\n",
    "\n",
    "In separate cells, create each of the following features as they relate to your understanding of big data and social analytics:\n",
    "1. A markdown cell containing a combination of headings, text, and lists.\n",
    "2. A markdown cell containing a link or image.\n",
    "3. A code cell with no output (for example, load library) that contains comments in the cell describing the function of the cell.\n",
    "4. A code cell with an output (for example, df.head() or a calculation).\n",
    "5. A code cell that produces a graph or plot.\n",
    "\n",
    "> **Hints**:\n",
    "\n",
    "> Make use of sections in previous notebooks, source external components (with references), or generate your own content. You may also obtain additional help from the Jupyter menu bar at the top of this notebook, under \"Help\", \"Markdown\", or review the [Jupyter Markdown Documentation]( http://nbviewer.jupyter.org/github/jupyter/notebook/blob/master/docs/source/examples/Notebook/Working%20With%20Markdown%20Cells.ipynb).\n",
    "\n",
    "> **Note**: \n",
    "\n",
    "> Ensure that the cell type is \"Markdown\" in the menu bar above, and that you \"Execute\" the markdown cells before saving, downloading, and submitting your notebook to the Online Campus. Should you need to edit a markdown cell after executing it, double-click the white space on the left of the cell."
   ]
  },
  {
   "cell_type": "markdown",
   "metadata": {},
   "source": [
    "# This is a large heading with a small unordered list\n",
    "* item 1\n",
    "* item 2\n",
    "* item 3\n",
    "\n",
    "#### This is a smaller heading with an ordered list\n",
    "1. Hello\n",
    "2. World\n",
    "3. !\n"
   ]
  },
  {
   "cell_type": "markdown",
   "metadata": {},
   "source": [
    "This is a link to a picture of [kittens](http://imgur.com/r/kittens/BCOnGfv)"
   ]
  },
  {
   "cell_type": "code",
   "execution_count": 17,
   "metadata": {
    "collapsed": false
   },
   "outputs": [],
   "source": [
    "import pandas as scpy"
   ]
  },
  {
   "cell_type": "code",
   "execution_count": 18,
   "metadata": {
    "collapsed": false
   },
   "outputs": [
    {
     "name": "stdout",
     "output_type": "stream",
     "text": [
      "a cool guy\n"
     ]
    }
   ],
   "source": [
    "wes = \"a cool \"\n",
    "bosse = \"guy\"\n",
    "print(wes + bosse)"
   ]
  },
  {
   "cell_type": "code",
   "execution_count": 19,
   "metadata": {
    "collapsed": false
   },
   "outputs": [
    {
     "data": {
      "image/png": "[encoded data removed]",
      "text/plain": [
       "<matplotlib.figure.Figure at 0x7ffaec74b410>"
      ]
     },
     "metadata": {},
     "output_type": "display_data"
    }
   ],
   "source": [
    "import numpy as np\n",
    "import matplotlib.pyplot as plt\n",
    "    \n",
    "    \n",
    "x = np.linspace(0, 1)\n",
    "y = np.sin(4 * np.pi * x) * np.exp(-5 * x)\n",
    "    \n",
    "plt.fill(x, y, 'r')\n",
    "plt.grid(True)\n",
    "plt.show()"
   ]
  },
  {
   "cell_type": "markdown",
   "metadata": {
    "collapsed": true
   },
   "source": [
    "<br>\n",
    "<div class=\"alert alert-info\">\n",
    "<b>Exercise 2 End.</b>\n",
    "</div>\n",
    "\n",
    "> **Exercise complete**:\n",
    "    \n",
    "> This is a good time to \"Save and Checkpoint\"."
   ]
  },
  {
   "cell_type": "markdown",
   "metadata": {},
   "source": [
    "# 3. Submit your notebook\n",
    "Please make sure that you:\n",
    "- Perform a final \"Save and Checkpoint\";\n",
    "- Download a copy of the notebook in \".ipynb\" format to your local machine using \"File\", \"Download as\", and \"IPython Notebook (.ipynb)\"; and\n",
    "- Submit a copy of this file to the Online Campus."
   ]
  },
  {
   "cell_type": "code",
   "execution_count": null,
   "metadata": {
    "collapsed": true
   },
   "outputs": [],
   "source": []
  }
 ],
 "metadata": {
  "kernelspec": {
   "display_name": "Python 2",
   "language": "python",
   "name": "python2"
  },
  "language_info": {
   "codemirror_mode": {
    "name": "ipython",
    "version": 2
   },
   "file_extension": ".py",
   "mimetype": "text/x-python",
   "name": "python",
   "nbconvert_exporter": "python",
   "pygments_lexer": "ipython2",
   "version": "2.7.12"
  }
 },
 "nbformat": 4,
 "nbformat_minor": 0
}
